{
 "cells": [
  {
   "cell_type": "markdown",
   "metadata": {},
   "source": [
    "# Gesture Recognition\n",
    "In this group project, you are going to build a 3D Conv model that will be able to predict the 5 gestures correctly. Please import the following libraries to get started."
   ]
  },
  {
   "cell_type": "markdown",
   "metadata": {},
   "source": [
    "## Importing Liberaries"
   ]
  },
  {
   "cell_type": "code",
   "execution_count": 1,
   "metadata": {
    "scrolled": true
   },
   "outputs": [],
   "source": [
    "import numpy as np\n",
    "import os\n",
    "# from scipy.misc import imread, imresize\n",
    "from skimage import io\n",
    "from skimage.io import imread\n",
    "from skimage.transform import resize\n",
    "import datetime\n",
    "import os\n",
    "import matplotlib.pyplot as plt"
   ]
  },
  {
   "cell_type": "code",
   "execution_count": 2,
   "metadata": {},
   "outputs": [],
   "source": [
    "from keras.models import Sequential, Model\n",
    "from keras.layers import Dense, GRU, Flatten, TimeDistributed, Flatten, BatchNormalization, Activation\n",
    "from keras.layers import Conv3D, MaxPooling3D, Dropout\n",
    "from keras.layers import Conv2D, MaxPooling2D\n",
    "from keras.callbacks import ModelCheckpoint, ReduceLROnPlateau, EarlyStopping\n",
    "from keras import optimizers\n",
    "from tensorflow.keras.optimizers import Adam\n",
    "from keras.layers import LSTM\n",
    "#write your model here\n",
    "import cv2"
   ]
  },
  {
   "cell_type": "markdown",
   "metadata": {},
   "source": [
    "We set the random seed so that the results don't vary drastically."
   ]
  },
  {
   "cell_type": "code",
   "execution_count": 3,
   "metadata": {},
   "outputs": [],
   "source": [
    "np.random.seed(30)\n",
    "import random as rn\n",
    "rn.seed(30)\n",
    "from keras import backend as K\n",
    "import tensorflow as tf\n",
    "tf.random.set_seed(30)"
   ]
  },
  {
   "cell_type": "markdown",
   "metadata": {},
   "source": [
    "Creating a function for creating plots for model results"
   ]
  },
  {
   "cell_type": "code",
   "execution_count": 5,
   "metadata": {},
   "outputs": [],
   "source": [
    "def plot(history):\n",
    "    fig, axes = plt.subplots(nrows=1, ncols=2, figsize=(15,4))\n",
    "    axes[0].plot(history.history['loss'])   \n",
    "    axes[0].plot(history.history['val_loss'])\n",
    "    axes[0].legend(['loss','val_loss'])\n",
    "\n",
    "    axes[1].plot(history.history['categorical_accuracy'])   \n",
    "    axes[1].plot(history.history['val_categorical_accuracy'])\n",
    "    axes[1].legend(['categorical_accuracy','val_categorical_accuracy'])"
   ]
  },
  {
   "cell_type": "markdown",
   "metadata": {},
   "source": [
    "In this block, you read the folder names for training and validation. You also set the `batch_size` here. Note that you set the batch size in such a way that you are able to use the GPU in full capacity. You keep increasing the batch size until the machine throws an error."
   ]
  },
  {
   "cell_type": "code",
   "execution_count": 6,
   "metadata": {},
   "outputs": [
    {
     "name": "stdout",
     "output_type": "stream",
     "text": [
      "train_length= 663\n",
      "val_length= 100\n"
     ]
    }
   ],
   "source": [
    "project_folder='datasets/Project_data/'\n",
    "curr_dt_time = datetime.datetime.now()\n",
    "train_doc = np.random.permutation(open(project_folder + 'train.csv').readlines())\n",
    "val_doc = np.random.permutation(open(project_folder + 'val.csv').readlines())\n",
    "train_path = project_folder + 'train'\n",
    "val_path = project_folder + 'val'\n",
    "print('train_length=', len(train_doc))\n",
    "print('val_length=', len(val_doc))\n",
    "num_train_sequences = len(train_doc)\n",
    "num_val_sequences = len(val_doc)"
   ]
  },
  {
   "cell_type": "markdown",
   "metadata": {},
   "source": [
    "## Generator\n",
    "This is one of the most important part of the code. The overall structure of the generator has been given. In the generator, you are going to preprocess the images as you have images of 2 different dimensions as well as create a batch of video frames. You have to experiment with `img_idx`, `y`,`z` and normalization such that you get high accuracy."
   ]
  },
  {
   "cell_type": "code",
   "execution_count": 7,
   "metadata": {},
   "outputs": [],
   "source": [
    "def generator(source_path, folder_list,batch_size, total_frames, frames_to_sample, image_height, image_width,augment=False,):\n",
    "  img_idx = np.round(np.linspace(0, total_frames-1, frames_to_sample)).astype(int)\n",
    "  while True:\n",
    "    t = np.random.permutation(folder_list)\n",
    "    num_batches = len(t) // batch_size\n",
    "\n",
    "    for batch in range(num_batches):\n",
    "      batch_data, batch_labels = single_batch_data(source_path, t, batch, batch_size, img_idx, augment, image_height, image_width)\n",
    "      yield batch_data, batch_labels\n",
    "\n",
    "    remaining_seq = len(t) % batch_size\n",
    "\n",
    "    if (remaining_seq != 0):\n",
    "      batch_data, batch_labels = single_batch_data(source_path, t, num_batches, batch_size, img_idx, augment, image_height, image_width, remaining_seq)\n",
    "      yield batch_data, batch_labels\n"
   ]
  },
  {
   "cell_type": "code",
   "execution_count": 8,
   "metadata": {},
   "outputs": [],
   "source": [
    "    def single_batch_data(source_path,t,batch,batch_size,img_idx,augment, image_height,image_width,remaining_seq=0):\n",
    "    \n",
    "        seq_len = remaining_seq if remaining_seq else batch_size\n",
    "    \n",
    "        batch_data = np.zeros((seq_len,len(img_idx),image_height,image_width,3)) #channels=3\n",
    "        batch_labels = np.zeros((seq_len,5)) #since num_classes = 5\n",
    "    \n",
    "        if (augment): batch_data_aug = np.zeros((seq_len,len(img_idx),image_height,image_width,3))\n",
    "        #introducing augmentation of the data to increqase accuacy and avoid overfitting\n",
    "        \n",
    "        for folder in range(seq_len): \n",
    "            imgs = os.listdir(source_path+'/'+ t[folder + (batch*batch_size)].split(';')[0]) \n",
    "            for idx,item in enumerate(img_idx):\n",
    "\n",
    "                image = imread(source_path+'/'+ t[folder + (batch*batch_size)].strip().split(';')[0]+'/'+imgs[item]).astype(np.float32)\n",
    "                image_resized=resize(image,(image_height,image_width,3))#resizing the image to dynamic height, width\n",
    "\n",
    "                batch_data[folder,idx,:,:,0] = (image_resized[:,:,0])/255\n",
    "                batch_data[folder,idx,:,:,1] = (image_resized[:,:,1])/255\n",
    "                batch_data[folder,idx,:,:,2] = (image_resized[:,:,2])/255\n",
    "            \n",
    "                if (augment):\n",
    "                    shifted_image = cv2.warpAffine(image, \n",
    "                                             np.float32([[1, 0, np.random.randint(-30,30)],[0, 1, np.random.randint(-30,30)]]), \n",
    "                                            (image.shape[1], image.shape[0]))\n",
    "                    #applies an affine transformation to the image\n",
    "                    gray = cv2.cvtColor(shifted_image,cv2.COLOR_BGR2GRAY)#shifted image is converted to grayscale format\n",
    "\n",
    "                    x0, y0 = np.argwhere(gray > 0).min(axis=0)\n",
    "                    x1, y1 = np.argwhere(gray > 0).max(axis=0) \n",
    "                    #These pixels represent the area where the gesture likely exists, where pixel value is >0\n",
    "                    \n",
    "                    cropped=shifted_image[x0:x1,y0:y1,:]#cropping to remove the noise\n",
    "                    \n",
    "                    image_resized=resize(cropped,(image_height,image_width,3))\n",
    "                    \n",
    "            \n",
    "                    batch_data_aug[folder,idx,:,:,0] = (image_resized[:,:,0])/255\n",
    "                    batch_data_aug[folder,idx,:,:,1] = (image_resized[:,:,1])/255\n",
    "                    batch_data_aug[folder,idx,:,:,2] = (image_resized[:,:,2])/255\n",
    "                \n",
    "            \n",
    "            batch_labels[folder, int(t[folder + (batch*batch_size)].strip().split(';')[2])] = 1\n",
    "            \n",
    "    \n",
    "        if (augment):\n",
    "            batch_data=np.concatenate([batch_data,batch_data_aug])\n",
    "            batch_labels=np.concatenate([batch_labels,batch_labels])\n",
    "            # concatenating the augmented image and returning both orginal and augmented image.\n",
    "        \n",
    "        return(batch_data,batch_labels)"
   ]
  },
  {
   "cell_type": "markdown",
   "metadata": {},
   "source": [
    "## Creating functions for compiling and training the model"
   ]
  },
  {
   "cell_type": "code",
   "execution_count": 9,
   "metadata": {},
   "outputs": [],
   "source": [
    "def compile_model(model, optimiser = 'adam'):\n",
    "    optimiser = Adam()\n",
    "    model.compile(optimizer=optimiser,  loss='categorical_crossentropy', metrics=['categorical_accuracy'])\n",
    "    model.summary()\n",
    "    return model\n",
    "\n",
    "def train_model(model,  batch_size, total_frames, frames_to_sample,image_height,image_width, num_epochs,augment_data=False,):\n",
    "        train_generator = generator(train_path, train_doc,augment=augment_data, batch_size=batch_size, total_frames=total_frames, frames_to_sample=frames_to_sample,image_height=image_height,image_width=image_width)\n",
    "        val_generator = generator(val_path, val_doc,batch_size=batch_size, total_frames=total_frames, frames_to_sample=frames_to_sample,image_height=image_height,image_width=image_width)\n",
    "\n",
    "        # augmentation is enabled only for train data and not for validation data.\n",
    "        model_name = 'model_init' + '_' + str(datetime.datetime.now()).replace(' ','').replace(':','_') + '/'\n",
    "    \n",
    "        if not os.path.exists(model_name):\n",
    "            os.mkdir(model_name)\n",
    "        \n",
    "        filepath = model_name + 'model-{epoch:05d}-{loss:.5f}-{categorical_accuracy:.5f}-{val_loss:.5f}-{val_categorical_accuracy:.5f}.h5'\n",
    "\n",
    "        checkpoint = ModelCheckpoint(filepath, monitor='val_loss', verbose=1, save_best_only=True, save_weights_only=False, mode='auto')\n",
    "        LR = ReduceLROnPlateau(monitor='val_loss', factor=0.2, verbose=1, patience=4)\n",
    "        \n",
    "        earlystop = EarlyStopping( monitor=\"val_loss\", min_delta=0,patience=10,verbose=1)\n",
    "        callbacks_list = [checkpoint, LR, earlystop]\n",
    "\n",
    "        if (num_train_sequences%batch_size) == 0:\n",
    "            steps_per_epoch = int(num_train_sequences/batch_size)\n",
    "        else:\n",
    "            steps_per_epoch = (num_train_sequences//batch_size) + 1\n",
    "\n",
    "        if (num_val_sequences%batch_size) == 0:\n",
    "            validation_steps = int(num_val_sequences/batch_size)\n",
    "        else:\n",
    "            validation_steps = (num_val_sequences//batch_size) + 1\n",
    "    \n",
    "        history=model.fit_generator(train_generator, steps_per_epoch=steps_per_epoch, epochs=num_epochs, verbose=1, \n",
    "                            callbacks=callbacks_list, validation_data=val_generator, \n",
    "                            validation_steps=validation_steps, class_weight=None, workers=1, initial_epoch=0)\n",
    "        return history"
   ]
  },
  {
   "cell_type": "markdown",
   "metadata": {},
   "source": [
    "Created a custom generator, compile and train helper functions that can be used for all the models."
   ]
  },
  {
   "cell_type": "markdown",
   "metadata": {},
   "source": [
    "## Model\n",
    "Since video is a sequence of images we need to use Conv3D to train it, instead of Conv2D. So lets try to create an simple model to test wheather its working or not - for sample/ ablation experiment"
   ]
  },
  {
   "cell_type": "markdown",
   "metadata": {},
   "source": [
    "### Conv3d - Experiment 1 - Ablation model"
   ]
  },
  {
   "cell_type": "code",
   "execution_count": 20,
   "metadata": {
    "scrolled": true
   },
   "outputs": [],
   "source": [
    "def ablation_model(frames_to_sample,image_height, image_width ):\n",
    "        model = Sequential()\n",
    "        model.add(Conv3D(16, kernel_size=(3, 3, 3), padding='same',\n",
    "        input_shape=(frames_to_sample,image_height,image_width,3)))\n",
    "        model.add(Activation('relu'))\n",
    "        model.add(BatchNormalization())\n",
    "        model.add(MaxPooling3D(pool_size=(2, 2, 2)))\n",
    "\n",
    "        model.add(Conv3D(32, (2, 2, 2), padding='same'))\n",
    "        model.add(Activation('relu'))\n",
    "        model.add(BatchNormalization())\n",
    "        model.add(MaxPooling3D(pool_size=(2, 2, 2)))\n",
    "\n",
    "        model.add(Conv3D(64, (2, 2, 2), padding='same'))\n",
    "        model.add(Activation('relu'))\n",
    "        model.add(BatchNormalization())\n",
    "        model.add(MaxPooling3D(pool_size=(2, 2, 2)))\n",
    "\n",
    "        model.add(Flatten())\n",
    "        model.add(Dense(128,activation='relu'))\n",
    "        model.add(BatchNormalization())\n",
    "        model.add(Dropout(0.5))\n",
    "\n",
    "        model.add(Dense(64,activation='relu'))\n",
    "        model.add(BatchNormalization())\n",
    "        model.add(Dropout(0.25))\n",
    "\n",
    "\n",
    "        model.add(Dense(5,activation='softmax'))\n",
    "\n",
    "        return model"
   ]
  },
  {
   "cell_type": "code",
   "execution_count": 18,
   "metadata": {},
   "outputs": [],
   "source": [
    "image_height = 160\n",
    "image_width = 160\n",
    "channels=3\n",
    "num_classes=5\n",
    "total_frames=30\n",
    "frames_to_sample=15\n",
    "batch_size=20\n",
    "num_epochs=2"
   ]
  },
  {
   "cell_type": "code",
   "execution_count": 25,
   "metadata": {},
   "outputs": [
    {
     "name": "stdout",
     "output_type": "stream",
     "text": [
      "Model: \"sequential_3\"\n",
      "_________________________________________________________________\n",
      " Layer (type)                Output Shape              Param #   \n",
      "=================================================================\n",
      " conv3d_10 (Conv3D)          (None, 15, 160, 160, 16)  1312      \n",
      "                                                                 \n",
      " activation_10 (Activation)  (None, 15, 160, 160, 16)  0         \n",
      "                                                                 \n",
      " batch_normalization_14 (Bat  (None, 15, 160, 160, 16)  64       \n",
      " chNormalization)                                                \n",
      "                                                                 \n",
      " max_pooling3d_10 (MaxPoolin  (None, 7, 80, 80, 16)    0         \n",
      " g3D)                                                            \n",
      "                                                                 \n",
      " conv3d_11 (Conv3D)          (None, 7, 80, 80, 32)     4128      \n",
      "                                                                 \n",
      " activation_11 (Activation)  (None, 7, 80, 80, 32)     0         \n",
      "                                                                 \n",
      " batch_normalization_15 (Bat  (None, 7, 80, 80, 32)    128       \n",
      " chNormalization)                                                \n",
      "                                                                 \n",
      " max_pooling3d_11 (MaxPoolin  (None, 3, 40, 40, 32)    0         \n",
      " g3D)                                                            \n",
      "                                                                 \n",
      " conv3d_12 (Conv3D)          (None, 3, 40, 40, 64)     16448     \n",
      "                                                                 \n",
      " activation_12 (Activation)  (None, 3, 40, 40, 64)     0         \n",
      "                                                                 \n",
      " batch_normalization_16 (Bat  (None, 3, 40, 40, 64)    256       \n",
      " chNormalization)                                                \n",
      "                                                                 \n",
      " max_pooling3d_12 (MaxPoolin  (None, 1, 20, 20, 64)    0         \n",
      " g3D)                                                            \n",
      "                                                                 \n",
      " flatten_2 (Flatten)         (None, 25600)             0         \n",
      "                                                                 \n",
      " dense_6 (Dense)             (None, 128)               3276928   \n",
      "                                                                 \n",
      " batch_normalization_17 (Bat  (None, 128)              512       \n",
      " chNormalization)                                                \n",
      "                                                                 \n",
      " dropout_4 (Dropout)         (None, 128)               0         \n",
      "                                                                 \n",
      " dense_7 (Dense)             (None, 64)                8256      \n",
      "                                                                 \n",
      " batch_normalization_18 (Bat  (None, 64)               256       \n",
      " chNormalization)                                                \n",
      "                                                                 \n",
      " dropout_5 (Dropout)         (None, 64)                0         \n",
      "                                                                 \n",
      " dense_8 (Dense)             (None, 5)                 325       \n",
      "                                                                 \n",
      "=================================================================\n",
      "Total params: 3,308,613\n",
      "Trainable params: 3,308,005\n",
      "Non-trainable params: 608\n",
      "_________________________________________________________________\n"
     ]
    },
    {
     "name": "stderr",
     "output_type": "stream",
     "text": [
      "/tmp/ipykernel_261/81854442.py:34: UserWarning: `Model.fit_generator` is deprecated and will be removed in a future version. Please use `Model.fit`, which supports generators.\n",
      "  history=model.fit_generator(train_generator, steps_per_epoch=steps_per_epoch, epochs=num_epochs, verbose=1,\n"
     ]
    },
    {
     "name": "stdout",
     "output_type": "stream",
     "text": [
      "Epoch 1/2\n"
     ]
    },
    {
     "name": "stderr",
     "output_type": "stream",
     "text": [
      "2024-07-02 16:55:50.277022: I tensorflow/stream_executor/cuda/cuda_dnn.cc:377] Loaded cuDNN version 8302\n"
     ]
    },
    {
     "name": "stdout",
     "output_type": "stream",
     "text": [
      "34/34 [==============================] - ETA: 0s - loss: 1.7057 - categorical_accuracy: 0.4118\n",
      "Epoch 00001: val_loss improved from inf to 4.52191, saving model to model_init_2024-07-0216_55_45.610198/model-00001-1.70565-0.41176-4.52191-0.21000.h5\n",
      "34/34 [==============================] - 90s 3s/step - loss: 1.7057 - categorical_accuracy: 0.4118 - val_loss: 4.5219 - val_categorical_accuracy: 0.2100 - lr: 0.0010\n",
      "Epoch 2/2\n",
      "34/34 [==============================] - ETA: 0s - loss: 1.0819 - categorical_accuracy: 0.5807\n",
      "Epoch 00002: val_loss did not improve from 4.52191\n",
      "34/34 [==============================] - 86s 3s/step - loss: 1.0819 - categorical_accuracy: 0.5807 - val_loss: 10.3720 - val_categorical_accuracy: 0.2400 - lr: 0.0010\n"
     ]
    },
    {
     "data": {
      "image/png": "[encoded data removed]",
      "text/plain": [
       "<Figure size 1080x288 with 2 Axes>"
      ]
     },
     "metadata": {
      "needs_background": "light"
     },
     "output_type": "display_data"
    }
   ],
   "source": [
    "# running only for 2 epochs\n",
    "ablation_model1 = ablation_model(frames_to_sample = 15,image_height=160, image_width=160)\n",
    "model = compile_model(ablation_model1,optimiser=\"adam\")\n",
    "ablation_history = train_model(ablation_model1,  batch_size, total_frames, frames_to_sample,image_height,image_width, num_epochs,augment_data=False)\n",
    "plot(ablation_history)"
   ]
  },
  {
   "cell_type": "code",
   "execution_count": 26,
   "metadata": {},
   "outputs": [
    {
     "data": {
      "text/plain": [
       "(None, 5)"
      ]
     },
     "execution_count": 26,
     "metadata": {},
     "output_type": "execute_result"
    }
   ],
   "source": [
    "ablation_model1.output_shape"
   ]
  },
  {
   "cell_type": "markdown",
   "metadata": {},
   "source": [
    "The model seems fine and ran without any errors. Now lets try with more number of epochs and tune different hyperparameters to check the performance. "
   ]
  },
  {
   "cell_type": "markdown",
   "metadata": {},
   "source": [
    "### Conv3d - Experiment 2 - without augmentation"
   ]
  },
  {
   "cell_type": "code",
   "execution_count": 9,
   "metadata": {},
   "outputs": [],
   "source": [
    "   def Model_3D_1(filtersize=(3,3,3),dense_neurons=64,dropout=0.25):\n",
    "\n",
    "        model = Sequential()\n",
    "        model.add(Conv3D(16, filtersize, padding='same',\n",
    "                 input_shape=(frames_to_sample,image_height,image_width,3)))\n",
    "        model.add(Activation('relu'))\n",
    "        model.add(BatchNormalization())\n",
    "        model.add(MaxPooling3D(pool_size=(2, 2, 2)))\n",
    "\n",
    "        model.add(Conv3D(32, filtersize, padding='same'))\n",
    "        model.add(Activation('relu'))\n",
    "        model.add(BatchNormalization())\n",
    "        model.add(MaxPooling3D(pool_size=(2, 2, 2)))\n",
    "\n",
    "        model.add(Conv3D(64, filtersize, padding='same'))\n",
    "        model.add(Activation('relu'))\n",
    "        model.add(BatchNormalization())\n",
    "        model.add(MaxPooling3D(pool_size=(2, 2, 2)))\n",
    "\n",
    "        model.add(Conv3D(128, filtersize, padding='same'))\n",
    "        model.add(Activation('relu'))\n",
    "        model.add(BatchNormalization())\n",
    "        model.add(MaxPooling3D(pool_size=(2, 2, 2)))\n",
    "\n",
    "        model.add(Flatten())\n",
    "        model.add(Dense(dense_neurons,activation='relu'))\n",
    "        model.add(BatchNormalization())\n",
    "        model.add(Dropout(dropout))\n",
    "\n",
    "        model.add(Dense(dense_neurons,activation='relu'))\n",
    "        model.add(BatchNormalization())\n",
    "        model.add(Dropout(dropout))\n",
    "\n",
    "\n",
    "        model.add(Dense(5,activation='softmax'))\n",
    "        return model"
   ]
  },
  {
   "cell_type": "code",
   "execution_count": 28,
   "metadata": {
    "scrolled": false
   },
   "outputs": [
    {
     "name": "stdout",
     "output_type": "stream",
     "text": [
      "Model: \"sequential_4\"\n",
      "_________________________________________________________________\n",
      " Layer (type)                Output Shape              Param #   \n",
      "=================================================================\n",
      " conv3d_13 (Conv3D)          (None, 20, 160, 160, 16)  1312      \n",
      "                                                                 \n",
      " activation_13 (Activation)  (None, 20, 160, 160, 16)  0         \n",
      "                                                                 \n",
      " batch_normalization_19 (Bat  (None, 20, 160, 160, 16)  64       \n",
      " chNormalization)                                                \n",
      "                                                                 \n",
      " max_pooling3d_13 (MaxPoolin  (None, 10, 80, 80, 16)   0         \n",
      " g3D)                                                            \n",
      "                                                                 \n",
      " conv3d_14 (Conv3D)          (None, 10, 80, 80, 32)    13856     \n",
      "                                                                 \n",
      " activation_14 (Activation)  (None, 10, 80, 80, 32)    0         \n",
      "                                                                 \n",
      " batch_normalization_20 (Bat  (None, 10, 80, 80, 32)   128       \n",
      " chNormalization)                                                \n",
      "                                                                 \n",
      " max_pooling3d_14 (MaxPoolin  (None, 5, 40, 40, 32)    0         \n",
      " g3D)                                                            \n",
      "                                                                 \n",
      " conv3d_15 (Conv3D)          (None, 5, 40, 40, 64)     55360     \n",
      "                                                                 \n",
      " activation_15 (Activation)  (None, 5, 40, 40, 64)     0         \n",
      "                                                                 \n",
      " batch_normalization_21 (Bat  (None, 5, 40, 40, 64)    256       \n",
      " chNormalization)                                                \n",
      "                                                                 \n",
      " max_pooling3d_15 (MaxPoolin  (None, 2, 20, 20, 64)    0         \n",
      " g3D)                                                            \n",
      "                                                                 \n",
      " conv3d_16 (Conv3D)          (None, 2, 20, 20, 128)    221312    \n",
      "                                                                 \n",
      " activation_16 (Activation)  (None, 2, 20, 20, 128)    0         \n",
      "                                                                 \n",
      " batch_normalization_22 (Bat  (None, 2, 20, 20, 128)   512       \n",
      " chNormalization)                                                \n",
      "                                                                 \n",
      " max_pooling3d_16 (MaxPoolin  (None, 1, 10, 10, 128)   0         \n",
      " g3D)                                                            \n",
      "                                                                 \n",
      " flatten_3 (Flatten)         (None, 12800)             0         \n",
      "                                                                 \n",
      " dense_9 (Dense)             (None, 64)                819264    \n",
      "                                                                 \n",
      " batch_normalization_23 (Bat  (None, 64)               256       \n",
      " chNormalization)                                                \n",
      "                                                                 \n",
      " dropout_6 (Dropout)         (None, 64)                0         \n",
      "                                                                 \n",
      " dense_10 (Dense)            (None, 64)                4160      \n",
      "                                                                 \n",
      " batch_normalization_24 (Bat  (None, 64)               256       \n",
      " chNormalization)                                                \n",
      "                                                                 \n",
      " dropout_7 (Dropout)         (None, 64)                0         \n",
      "                                                                 \n",
      " dense_11 (Dense)            (None, 5)                 325       \n",
      "                                                                 \n",
      "=================================================================\n",
      "Total params: 1,117,061\n",
      "Trainable params: 1,116,325\n",
      "Non-trainable params: 736\n",
      "_________________________________________________________________\n"
     ]
    },
    {
     "name": "stderr",
     "output_type": "stream",
     "text": [
      "/tmp/ipykernel_261/81854442.py:34: UserWarning: `Model.fit_generator` is deprecated and will be removed in a future version. Please use `Model.fit`, which supports generators.\n",
      "  history=model.fit_generator(train_generator, steps_per_epoch=steps_per_epoch, epochs=num_epochs, verbose=1,\n"
     ]
    },
    {
     "name": "stdout",
     "output_type": "stream",
     "text": [
      "Epoch 1/15\n",
      "17/17 [==============================] - ETA: 0s - loss: 1.6054 - categorical_accuracy: 0.4329\n",
      "Epoch 00001: val_loss improved from inf to 1.54448, saving model to model_init_2024-07-0216_58_59.013544/model-00001-1.60543-0.43288-1.54448-0.32000.h5\n",
      "17/17 [==============================] - 119s 7s/step - loss: 1.6054 - categorical_accuracy: 0.4329 - val_loss: 1.5445 - val_categorical_accuracy: 0.3200 - lr: 0.0010\n",
      "Epoch 2/15\n",
      "17/17 [==============================] - ETA: 0s - loss: 1.0976 - categorical_accuracy: 0.5837\n",
      "Epoch 00002: val_loss did not improve from 1.54448\n",
      "17/17 [==============================] - 117s 7s/step - loss: 1.0976 - categorical_accuracy: 0.5837 - val_loss: 2.0771 - val_categorical_accuracy: 0.2100 - lr: 0.0010\n",
      "Epoch 3/15\n",
      "17/17 [==============================] - ETA: 0s - loss: 0.8012 - categorical_accuracy: 0.6817\n",
      "Epoch 00003: val_loss did not improve from 1.54448\n",
      "17/17 [==============================] - 118s 7s/step - loss: 0.8012 - categorical_accuracy: 0.6817 - val_loss: 3.1170 - val_categorical_accuracy: 0.2000 - lr: 0.0010\n",
      "Epoch 4/15\n",
      "17/17 [==============================] - ETA: 0s - loss: 0.6216 - categorical_accuracy: 0.7768\n",
      "Epoch 00004: val_loss did not improve from 1.54448\n",
      "17/17 [==============================] - 119s 7s/step - loss: 0.6216 - categorical_accuracy: 0.7768 - val_loss: 3.5900 - val_categorical_accuracy: 0.2100 - lr: 0.0010\n",
      "Epoch 5/15\n",
      "17/17 [==============================] - ETA: 0s - loss: 0.4735 - categorical_accuracy: 0.8281\n",
      "Epoch 00005: val_loss did not improve from 1.54448\n",
      "\n",
      "Epoch 00005: ReduceLROnPlateau reducing learning rate to 0.00020000000949949026.\n",
      "17/17 [==============================] - 118s 7s/step - loss: 0.4735 - categorical_accuracy: 0.8281 - val_loss: 4.3979 - val_categorical_accuracy: 0.2400 - lr: 0.0010\n",
      "Epoch 6/15\n",
      "17/17 [==============================] - ETA: 0s - loss: 0.3462 - categorical_accuracy: 0.8929\n",
      "Epoch 00006: val_loss did not improve from 1.54448\n",
      "17/17 [==============================] - 117s 7s/step - loss: 0.3462 - categorical_accuracy: 0.8929 - val_loss: 4.7230 - val_categorical_accuracy: 0.1700 - lr: 2.0000e-04\n",
      "Epoch 7/15\n",
      "17/17 [==============================] - ETA: 0s - loss: 0.2827 - categorical_accuracy: 0.9155\n",
      "Epoch 00007: val_loss did not improve from 1.54448\n",
      "17/17 [==============================] - 120s 7s/step - loss: 0.2827 - categorical_accuracy: 0.9155 - val_loss: 4.7922 - val_categorical_accuracy: 0.2100 - lr: 2.0000e-04\n",
      "Epoch 8/15\n",
      "17/17 [==============================] - ETA: 0s - loss: 0.2725 - categorical_accuracy: 0.9231\n",
      "Epoch 00008: val_loss did not improve from 1.54448\n",
      "17/17 [==============================] - 118s 7s/step - loss: 0.2725 - categorical_accuracy: 0.9231 - val_loss: 5.2585 - val_categorical_accuracy: 0.2000 - lr: 2.0000e-04\n",
      "Epoch 9/15\n",
      "17/17 [==============================] - ETA: 0s - loss: 0.2386 - categorical_accuracy: 0.9321\n",
      "Epoch 00009: val_loss did not improve from 1.54448\n",
      "\n",
      "Epoch 00009: ReduceLROnPlateau reducing learning rate to 4.0000001899898055e-05.\n",
      "17/17 [==============================] - 115s 7s/step - loss: 0.2386 - categorical_accuracy: 0.9321 - val_loss: 5.4516 - val_categorical_accuracy: 0.2200 - lr: 2.0000e-04\n",
      "Epoch 10/15\n",
      "17/17 [==============================] - ETA: 0s - loss: 0.2244 - categorical_accuracy: 0.9306\n",
      "Epoch 00010: val_loss did not improve from 1.54448\n",
      "17/17 [==============================] - 125s 8s/step - loss: 0.2244 - categorical_accuracy: 0.9306 - val_loss: 5.9442 - val_categorical_accuracy: 0.2100 - lr: 4.0000e-05\n",
      "Epoch 11/15\n",
      "17/17 [==============================] - ETA: 0s - loss: 0.1920 - categorical_accuracy: 0.9532\n",
      "Epoch 00011: val_loss did not improve from 1.54448\n",
      "17/17 [==============================] - 128s 8s/step - loss: 0.1920 - categorical_accuracy: 0.9532 - val_loss: 5.8731 - val_categorical_accuracy: 0.1900 - lr: 4.0000e-05\n",
      "Epoch 00011: early stopping\n"
     ]
    },
    {
     "data": {
      "image/png": "[encoded data removed]",
      "text/plain": [
       "<Figure size 1080x288 with 2 Axes>"
      ]
     },
     "metadata": {
      "needs_background": "light"
     },
     "output_type": "display_data"
    }
   ],
   "source": [
    "image_height = 160\n",
    "image_width = 160\n",
    "channels=3\n",
    "num_classes=5\n",
    "total_frames=30\n",
    "frames_to_sample=20\n",
    "batch_size=40\n",
    "num_epochs=15\n",
    "\n",
    "cnn_3d_model1 = Model_3D_1()\n",
    "model = compile_model(cnn_3d_model1,optimiser=\"adam\")\n",
    "cnn_3d_model1_history = train_model(cnn_3d_model1, batch_size, total_frames, frames_to_sample,image_height,image_width, num_epochs, augment_data=False)\n",
    "plot(cnn_3d_model1_history)# augmentation not enabled"
   ]
  },
  {
   "cell_type": "markdown",
   "metadata": {},
   "source": [
    "As we can see the categorical accuracy is good but the validation accuracy is very low indicating that model is overfitting.\n",
    "\n",
    "Also we reached resource exhausation with bqatch size 40 with 20 epocha, so decreasing the batch sie and trying with augmentated data now."
   ]
  },
  {
   "cell_type": "markdown",
   "metadata": {},
   "source": [
    "### Conv3d - Experiment 3 - batch size=20 with augmentation"
   ]
  },
  {
   "cell_type": "code",
   "execution_count": 34,
   "metadata": {},
   "outputs": [],
   "source": [
    "batch_size=20"
   ]
  },
  {
   "cell_type": "code",
   "execution_count": 35,
   "metadata": {
    "scrolled": false
   },
   "outputs": [
    {
     "name": "stderr",
     "output_type": "stream",
     "text": [
      "/tmp/ipykernel_261/81854442.py:34: UserWarning: `Model.fit_generator` is deprecated and will be removed in a future version. Please use `Model.fit`, which supports generators.\n",
      "  history=model.fit_generator(train_generator, steps_per_epoch=steps_per_epoch, epochs=num_epochs, verbose=1,\n"
     ]
    },
    {
     "name": "stdout",
     "output_type": "stream",
     "text": [
      "Epoch 1/15\n",
      "34/34 [==============================] - ETA: 0s - loss: 0.5519 - categorical_accuracy: 0.8009\n",
      "Epoch 00001: val_loss improved from inf to 5.96230, saving model to model_init_2024-07-0217_31_56.776275/model-00001-0.55189-0.80090-5.96230-0.21000.h5\n",
      "34/34 [==============================] - 233s 7s/step - loss: 0.5519 - categorical_accuracy: 0.8009 - val_loss: 5.9623 - val_categorical_accuracy: 0.2100 - lr: 4.0000e-05\n",
      "Epoch 2/15\n",
      "34/34 [==============================] - ETA: 0s - loss: 0.4689 - categorical_accuracy: 0.8303\n",
      "Epoch 00002: val_loss did not improve from 5.96230\n",
      "34/34 [==============================] - 233s 7s/step - loss: 0.4689 - categorical_accuracy: 0.8303 - val_loss: 6.2367 - val_categorical_accuracy: 0.2000 - lr: 4.0000e-05\n",
      "Epoch 3/15\n",
      "34/34 [==============================] - ETA: 0s - loss: 0.4357 - categorical_accuracy: 0.8544\n",
      "Epoch 00003: val_loss did not improve from 5.96230\n",
      "34/34 [==============================] - 230s 7s/step - loss: 0.4357 - categorical_accuracy: 0.8544 - val_loss: 6.8715 - val_categorical_accuracy: 0.1800 - lr: 4.0000e-05\n",
      "Epoch 4/15\n",
      "34/34 [==============================] - ETA: 0s - loss: 0.4411 - categorical_accuracy: 0.8499\n",
      "Epoch 00004: val_loss improved from 5.96230 to 5.24419, saving model to model_init_2024-07-0217_31_56.776275/model-00004-0.44114-0.84992-5.24419-0.29000.h5\n",
      "34/34 [==============================] - 238s 7s/step - loss: 0.4411 - categorical_accuracy: 0.8499 - val_loss: 5.2442 - val_categorical_accuracy: 0.2900 - lr: 4.0000e-05\n",
      "Epoch 5/15\n",
      "34/34 [==============================] - ETA: 0s - loss: 0.4412 - categorical_accuracy: 0.8469\n",
      "Epoch 00005: val_loss did not improve from 5.24419\n",
      "34/34 [==============================] - 234s 7s/step - loss: 0.4412 - categorical_accuracy: 0.8469 - val_loss: 5.8267 - val_categorical_accuracy: 0.2300 - lr: 4.0000e-05\n",
      "Epoch 6/15\n",
      "34/34 [==============================] - ETA: 0s - loss: 0.4107 - categorical_accuracy: 0.8492\n",
      "Epoch 00006: val_loss improved from 5.24419 to 4.69392, saving model to model_init_2024-07-0217_31_56.776275/model-00006-0.41066-0.84917-4.69392-0.22000.h5\n",
      "34/34 [==============================] - 229s 7s/step - loss: 0.4107 - categorical_accuracy: 0.8492 - val_loss: 4.6939 - val_categorical_accuracy: 0.2200 - lr: 4.0000e-05\n",
      "Epoch 7/15\n",
      "34/34 [==============================] - ETA: 0s - loss: 0.4142 - categorical_accuracy: 0.8597\n",
      "Epoch 00007: val_loss improved from 4.69392 to 4.29400, saving model to model_init_2024-07-0217_31_56.776275/model-00007-0.41416-0.85973-4.29400-0.21000.h5\n",
      "34/34 [==============================] - 236s 7s/step - loss: 0.4142 - categorical_accuracy: 0.8597 - val_loss: 4.2940 - val_categorical_accuracy: 0.2100 - lr: 4.0000e-05\n",
      "Epoch 8/15\n",
      "34/34 [==============================] - ETA: 0s - loss: 0.3907 - categorical_accuracy: 0.8612\n",
      "Epoch 00008: val_loss did not improve from 4.29400\n",
      "34/34 [==============================] - 227s 7s/step - loss: 0.3907 - categorical_accuracy: 0.8612 - val_loss: 4.4466 - val_categorical_accuracy: 0.2100 - lr: 4.0000e-05\n",
      "Epoch 9/15\n",
      "34/34 [==============================] - ETA: 0s - loss: 0.4085 - categorical_accuracy: 0.8582\n",
      "Epoch 00009: val_loss improved from 4.29400 to 3.52599, saving model to model_init_2024-07-0217_31_56.776275/model-00009-0.40848-0.85822-3.52599-0.30000.h5\n",
      "34/34 [==============================] - 228s 7s/step - loss: 0.4085 - categorical_accuracy: 0.8582 - val_loss: 3.5260 - val_categorical_accuracy: 0.3000 - lr: 4.0000e-05\n",
      "Epoch 10/15\n",
      "34/34 [==============================] - ETA: 0s - loss: 0.3747 - categorical_accuracy: 0.8718\n",
      "Epoch 00010: val_loss did not improve from 3.52599\n",
      "34/34 [==============================] - 227s 7s/step - loss: 0.3747 - categorical_accuracy: 0.8718 - val_loss: 3.6222 - val_categorical_accuracy: 0.2100 - lr: 4.0000e-05\n",
      "Epoch 11/15\n",
      "34/34 [==============================] - ETA: 0s - loss: 0.3183 - categorical_accuracy: 0.8884\n",
      "Epoch 00011: val_loss improved from 3.52599 to 2.52709, saving model to model_init_2024-07-0217_31_56.776275/model-00011-0.31829-0.88839-2.52709-0.30000.h5\n",
      "34/34 [==============================] - 230s 7s/step - loss: 0.3183 - categorical_accuracy: 0.8884 - val_loss: 2.5271 - val_categorical_accuracy: 0.3000 - lr: 4.0000e-05\n",
      "Epoch 12/15\n",
      "34/34 [==============================] - ETA: 0s - loss: 0.3330 - categorical_accuracy: 0.8824\n",
      "Epoch 00012: val_loss improved from 2.52709 to 1.82930, saving model to model_init_2024-07-0217_31_56.776275/model-00012-0.33302-0.88235-1.82930-0.42000.h5\n",
      "34/34 [==============================] - 227s 7s/step - loss: 0.3330 - categorical_accuracy: 0.8824 - val_loss: 1.8293 - val_categorical_accuracy: 0.4200 - lr: 4.0000e-05\n",
      "Epoch 13/15\n",
      "34/34 [==============================] - ETA: 0s - loss: 0.3807 - categorical_accuracy: 0.8703\n",
      "Epoch 00013: val_loss improved from 1.82930 to 1.12700, saving model to model_init_2024-07-0217_31_56.776275/model-00013-0.38070-0.87029-1.12700-0.63000.h5\n",
      "34/34 [==============================] - 226s 7s/step - loss: 0.3807 - categorical_accuracy: 0.8703 - val_loss: 1.1270 - val_categorical_accuracy: 0.6300 - lr: 4.0000e-05\n",
      "Epoch 14/15\n",
      "34/34 [==============================] - ETA: 0s - loss: 0.3142 - categorical_accuracy: 0.8861\n",
      "Epoch 00014: val_loss improved from 1.12700 to 1.04213, saving model to model_init_2024-07-0217_31_56.776275/model-00014-0.31416-0.88612-1.04213-0.62000.h5\n",
      "34/34 [==============================] - 227s 7s/step - loss: 0.3142 - categorical_accuracy: 0.8861 - val_loss: 1.0421 - val_categorical_accuracy: 0.6200 - lr: 4.0000e-05\n",
      "Epoch 15/15\n",
      "34/34 [==============================] - ETA: 0s - loss: 0.3284 - categorical_accuracy: 0.8914\n",
      "Epoch 00015: val_loss improved from 1.04213 to 1.02892, saving model to model_init_2024-07-0217_31_56.776275/model-00015-0.32840-0.89140-1.02892-0.66000.h5\n",
      "34/34 [==============================] - 239s 7s/step - loss: 0.3284 - categorical_accuracy: 0.8914 - val_loss: 1.0289 - val_categorical_accuracy: 0.6600 - lr: 4.0000e-05\n"
     ]
    },
    {
     "data": {
      "image/png": "[encoded data removed]",
      "text/plain": [
       "<Figure size 1080x288 with 2 Axes>"
      ]
     },
     "metadata": {
      "needs_background": "light"
     },
     "output_type": "display_data"
    }
   ],
   "source": [
    "cnn_3d_model2_history = train_model(cnn_3d_model1, batch_size, total_frames, frames_to_sample,image_height,image_width, num_epochs, augment_data=True)\n",
    "plot(cnn_3d_model2_history)"
   ]
  },
  {
   "cell_type": "markdown",
   "metadata": {},
   "source": [
    "We can see that the validation accuracy increased significantly once augmentation is enabled."
   ]
  },
  {
   "cell_type": "markdown",
   "metadata": {},
   "source": [
    "### Conv3d - Experiment 4"
   ]
  },
  {
   "cell_type": "code",
   "execution_count": 36,
   "metadata": {
    "scrolled": false
   },
   "outputs": [
    {
     "name": "stdout",
     "output_type": "stream",
     "text": [
      "Model: \"sequential_5\"\n",
      "_________________________________________________________________\n",
      " Layer (type)                Output Shape              Param #   \n",
      "=================================================================\n",
      " conv3d_17 (Conv3D)          (None, 16, 120, 120, 16)  1312      \n",
      "                                                                 \n",
      " activation_17 (Activation)  (None, 16, 120, 120, 16)  0         \n",
      "                                                                 \n",
      " batch_normalization_25 (Bat  (None, 16, 120, 120, 16)  64       \n",
      " chNormalization)                                                \n",
      "                                                                 \n",
      " max_pooling3d_17 (MaxPoolin  (None, 8, 60, 60, 16)    0         \n",
      " g3D)                                                            \n",
      "                                                                 \n",
      " conv3d_18 (Conv3D)          (None, 8, 60, 60, 32)     13856     \n",
      "                                                                 \n",
      " activation_18 (Activation)  (None, 8, 60, 60, 32)     0         \n",
      "                                                                 \n",
      " batch_normalization_26 (Bat  (None, 8, 60, 60, 32)    128       \n",
      " chNormalization)                                                \n",
      "                                                                 \n",
      " max_pooling3d_18 (MaxPoolin  (None, 4, 30, 30, 32)    0         \n",
      " g3D)                                                            \n",
      "                                                                 \n",
      " conv3d_19 (Conv3D)          (None, 4, 30, 30, 64)     55360     \n",
      "                                                                 \n",
      " activation_19 (Activation)  (None, 4, 30, 30, 64)     0         \n",
      "                                                                 \n",
      " batch_normalization_27 (Bat  (None, 4, 30, 30, 64)    256       \n",
      " chNormalization)                                                \n",
      "                                                                 \n",
      " max_pooling3d_19 (MaxPoolin  (None, 2, 15, 15, 64)    0         \n",
      " g3D)                                                            \n",
      "                                                                 \n",
      " conv3d_20 (Conv3D)          (None, 2, 15, 15, 128)    221312    \n",
      "                                                                 \n",
      " activation_20 (Activation)  (None, 2, 15, 15, 128)    0         \n",
      "                                                                 \n",
      " batch_normalization_28 (Bat  (None, 2, 15, 15, 128)   512       \n",
      " chNormalization)                                                \n",
      "                                                                 \n",
      " max_pooling3d_20 (MaxPoolin  (None, 1, 7, 7, 128)     0         \n",
      " g3D)                                                            \n",
      "                                                                 \n",
      " flatten_4 (Flatten)         (None, 6272)              0         \n",
      "                                                                 \n",
      " dense_12 (Dense)            (None, 64)                401472    \n",
      "                                                                 \n",
      " batch_normalization_29 (Bat  (None, 64)               256       \n",
      " chNormalization)                                                \n",
      "                                                                 \n",
      " dropout_8 (Dropout)         (None, 64)                0         \n",
      "                                                                 \n",
      " dense_13 (Dense)            (None, 64)                4160      \n",
      "                                                                 \n",
      " batch_normalization_30 (Bat  (None, 64)               256       \n",
      " chNormalization)                                                \n",
      "                                                                 \n",
      " dropout_9 (Dropout)         (None, 64)                0         \n",
      "                                                                 \n",
      " dense_14 (Dense)            (None, 5)                 325       \n",
      "                                                                 \n",
      "=================================================================\n",
      "Total params: 699,269\n",
      "Trainable params: 698,533\n",
      "Non-trainable params: 736\n",
      "_________________________________________________________________\n",
      "None\n"
     ]
    },
    {
     "name": "stderr",
     "output_type": "stream",
     "text": [
      "/tmp/ipykernel_261/81854442.py:34: UserWarning: `Model.fit_generator` is deprecated and will be removed in a future version. Please use `Model.fit`, which supports generators.\n",
      "  history=model.fit_generator(train_generator, steps_per_epoch=steps_per_epoch, epochs=num_epochs, verbose=1,\n"
     ]
    },
    {
     "name": "stdout",
     "output_type": "stream",
     "text": [
      "Epoch 1/20\n",
      "34/34 [==============================] - ETA: 0s - loss: 1.6513 - categorical_accuracy: 0.3906\n",
      "Epoch 00001: val_loss improved from inf to 1.78454, saving model to model_init_2024-07-0218_35_44.927073/model-00001-1.65131-0.39065-1.78454-0.21000.h5\n",
      "34/34 [==============================] - 163s 5s/step - loss: 1.6513 - categorical_accuracy: 0.3906 - val_loss: 1.7845 - val_categorical_accuracy: 0.2100 - lr: 2.0000e-04\n",
      "Epoch 2/20\n",
      "34/34 [==============================] - ETA: 0s - loss: 1.2003 - categorical_accuracy: 0.5362\n",
      "Epoch 00002: val_loss did not improve from 1.78454\n",
      "34/34 [==============================] - 160s 5s/step - loss: 1.2003 - categorical_accuracy: 0.5362 - val_loss: 2.1927 - val_categorical_accuracy: 0.2100 - lr: 2.0000e-04\n",
      "Epoch 3/20\n",
      "34/34 [==============================] - ETA: 0s - loss: 0.9530 - categorical_accuracy: 0.6486\n",
      "Epoch 00003: val_loss did not improve from 1.78454\n",
      "34/34 [==============================] - 161s 5s/step - loss: 0.9530 - categorical_accuracy: 0.6486 - val_loss: 2.9890 - val_categorical_accuracy: 0.1700 - lr: 2.0000e-04\n",
      "Epoch 4/20\n",
      "34/34 [==============================] - ETA: 0s - loss: 0.8619 - categorical_accuracy: 0.6674\n",
      "Epoch 00004: val_loss did not improve from 1.78454\n",
      "34/34 [==============================] - 161s 5s/step - loss: 0.8619 - categorical_accuracy: 0.6674 - val_loss: 3.2569 - val_categorical_accuracy: 0.2300 - lr: 2.0000e-04\n",
      "Epoch 5/20\n",
      "34/34 [==============================] - ETA: 0s - loss: 0.7368 - categorical_accuracy: 0.7270\n",
      "Epoch 00005: val_loss did not improve from 1.78454\n",
      "\n",
      "Epoch 00005: ReduceLROnPlateau reducing learning rate to 3.9999998989515007e-05.\n",
      "34/34 [==============================] - 160s 5s/step - loss: 0.7368 - categorical_accuracy: 0.7270 - val_loss: 3.6389 - val_categorical_accuracy: 0.1900 - lr: 2.0000e-04\n",
      "Epoch 6/20\n",
      "34/34 [==============================] - ETA: 0s - loss: 0.6704 - categorical_accuracy: 0.7383\n",
      "Epoch 00006: val_loss did not improve from 1.78454\n",
      "34/34 [==============================] - 158s 5s/step - loss: 0.6704 - categorical_accuracy: 0.7383 - val_loss: 3.6650 - val_categorical_accuracy: 0.2300 - lr: 4.0000e-05\n",
      "Epoch 7/20\n",
      "34/34 [==============================] - ETA: 0s - loss: 0.6298 - categorical_accuracy: 0.7617\n",
      "Epoch 00007: val_loss did not improve from 1.78454\n",
      "34/34 [==============================] - 160s 5s/step - loss: 0.6298 - categorical_accuracy: 0.7617 - val_loss: 3.6374 - val_categorical_accuracy: 0.3000 - lr: 4.0000e-05\n",
      "Epoch 8/20\n",
      "34/34 [==============================] - ETA: 0s - loss: 0.5667 - categorical_accuracy: 0.7821\n",
      "Epoch 00008: val_loss did not improve from 1.78454\n",
      "34/34 [==============================] - 159s 5s/step - loss: 0.5667 - categorical_accuracy: 0.7821 - val_loss: 3.3753 - val_categorical_accuracy: 0.2900 - lr: 4.0000e-05\n",
      "Epoch 9/20\n",
      "34/34 [==============================] - ETA: 0s - loss: 0.5453 - categorical_accuracy: 0.8130\n",
      "Epoch 00009: val_loss did not improve from 1.78454\n",
      "\n",
      "Epoch 00009: ReduceLROnPlateau reducing learning rate to 7.999999797903002e-06.\n",
      "34/34 [==============================] - 161s 5s/step - loss: 0.5453 - categorical_accuracy: 0.8130 - val_loss: 3.4696 - val_categorical_accuracy: 0.2700 - lr: 4.0000e-05\n",
      "Epoch 10/20\n",
      "34/34 [==============================] - ETA: 0s - loss: 0.5296 - categorical_accuracy: 0.8137\n",
      "Epoch 00010: val_loss did not improve from 1.78454\n",
      "34/34 [==============================] - 177s 5s/step - loss: 0.5296 - categorical_accuracy: 0.8137 - val_loss: 3.2161 - val_categorical_accuracy: 0.2900 - lr: 8.0000e-06\n",
      "Epoch 11/20\n",
      "34/34 [==============================] - ETA: 0s - loss: 0.5537 - categorical_accuracy: 0.8107\n",
      "Epoch 00011: val_loss did not improve from 1.78454\n",
      "34/34 [==============================] - 161s 5s/step - loss: 0.5537 - categorical_accuracy: 0.8107 - val_loss: 2.9454 - val_categorical_accuracy: 0.2900 - lr: 8.0000e-06\n",
      "Epoch 00011: early stopping\n"
     ]
    },
    {
     "data": {
      "image/png": "[encoded data removed]",
      "text/plain": [
       "<Figure size 1080x288 with 2 Axes>"
      ]
     },
     "metadata": {
      "needs_background": "light"
     },
     "output_type": "display_data"
    }
   ],
   "source": [
    "image_height = 120\n",
    "image_width = 120\n",
    "channels=3\n",
    "num_classes=5\n",
    "total_frames=30\n",
    "frames_to_sample=16\n",
    "batch_size=20\n",
    "num_epochs=20\n",
    "\n",
    "\n",
    "cnn_3d_model2 = Model_3D_1()\n",
    "optimiser = Adam(learning_rate=0.0002)\n",
    "cnn_3d_model2.compile(optimizer=optimiser, loss='categorical_crossentropy', metrics=['categorical_accuracy'])\n",
    "print (cnn_3d_model2.summary())\n",
    "cnn_3d_model3_history = train_model(cnn_3d_model2, batch_size, total_frames, frames_to_sample,image_height,image_width, num_epochs, augment_data=True)\n",
    "plot(cnn_3d_model3_history)"
   ]
  },
  {
   "cell_type": "markdown",
   "metadata": {},
   "source": [
    "Now let us try to tune learning rate to (0.0002) and check the performance. As we can see learning rate did not improve the model.\n",
    "\n",
    "Let us change the image size and increase dense neurons"
   ]
  },
  {
   "cell_type": "markdown",
   "metadata": {},
   "source": [
    "### Architecture - Conv3d - Experiment 5"
   ]
  },
  {
   "cell_type": "code",
   "execution_count": 10,
   "metadata": {
    "scrolled": false
   },
   "outputs": [
    {
     "name": "stderr",
     "output_type": "stream",
     "text": [
      "2024-07-02 20:46:39.111862: W tensorflow/core/common_runtime/gpu/gpu_bfc_allocator.cc:39] Overriding allow_growth setting because the TF_FORCE_GPU_ALLOW_GROWTH environment variable is set. Original config value was 0.\n",
      "2024-07-02 20:46:39.111939: I tensorflow/core/common_runtime/gpu/gpu_device.cc:1525] Created device /job:localhost/replica:0/task:0/device:GPU:0 with 14800 MB memory:  -> device: 0, name: Quadro RTX 5000, pci bus id: 0000:1d:00.0, compute capability: 7.5\n"
     ]
    },
    {
     "name": "stdout",
     "output_type": "stream",
     "text": [
      "Model: \"sequential\"\n",
      "_________________________________________________________________\n",
      " Layer (type)                Output Shape              Param #   \n",
      "=================================================================\n",
      " conv3d (Conv3D)             (None, 20, 160, 160, 16)  1312      \n",
      "                                                                 \n",
      " activation (Activation)     (None, 20, 160, 160, 16)  0         \n",
      "                                                                 \n",
      " batch_normalization (BatchN  (None, 20, 160, 160, 16)  64       \n",
      " ormalization)                                                   \n",
      "                                                                 \n",
      " max_pooling3d (MaxPooling3D  (None, 10, 80, 80, 16)   0         \n",
      " )                                                               \n",
      "                                                                 \n",
      " conv3d_1 (Conv3D)           (None, 10, 80, 80, 32)    13856     \n",
      "                                                                 \n",
      " activation_1 (Activation)   (None, 10, 80, 80, 32)    0         \n",
      "                                                                 \n",
      " batch_normalization_1 (Batc  (None, 10, 80, 80, 32)   128       \n",
      " hNormalization)                                                 \n",
      "                                                                 \n",
      " max_pooling3d_1 (MaxPooling  (None, 5, 40, 40, 32)    0         \n",
      " 3D)                                                             \n",
      "                                                                 \n",
      " conv3d_2 (Conv3D)           (None, 5, 40, 40, 64)     55360     \n",
      "                                                                 \n",
      " activation_2 (Activation)   (None, 5, 40, 40, 64)     0         \n",
      "                                                                 \n",
      " batch_normalization_2 (Batc  (None, 5, 40, 40, 64)    256       \n",
      " hNormalization)                                                 \n",
      "                                                                 \n",
      " max_pooling3d_2 (MaxPooling  (None, 2, 20, 20, 64)    0         \n",
      " 3D)                                                             \n",
      "                                                                 \n",
      " conv3d_3 (Conv3D)           (None, 2, 20, 20, 128)    221312    \n",
      "                                                                 \n",
      " activation_3 (Activation)   (None, 2, 20, 20, 128)    0         \n",
      "                                                                 \n",
      " batch_normalization_3 (Batc  (None, 2, 20, 20, 128)   512       \n",
      " hNormalization)                                                 \n",
      "                                                                 \n",
      " max_pooling3d_3 (MaxPooling  (None, 1, 10, 10, 128)   0         \n",
      " 3D)                                                             \n",
      "                                                                 \n",
      " flatten (Flatten)           (None, 12800)             0         \n",
      "                                                                 \n",
      " dense (Dense)               (None, 256)               3277056   \n",
      "                                                                 \n",
      " batch_normalization_4 (Batc  (None, 256)              1024      \n",
      " hNormalization)                                                 \n",
      "                                                                 \n",
      " dropout (Dropout)           (None, 256)               0         \n",
      "                                                                 \n",
      " dense_1 (Dense)             (None, 256)               65792     \n",
      "                                                                 \n",
      " batch_normalization_5 (Batc  (None, 256)              1024      \n",
      " hNormalization)                                                 \n",
      "                                                                 \n",
      " dropout_1 (Dropout)         (None, 256)               0         \n",
      "                                                                 \n",
      " dense_2 (Dense)             (None, 5)                 1285      \n",
      "                                                                 \n",
      "=================================================================\n",
      "Total params: 3,638,981\n",
      "Trainable params: 3,637,477\n",
      "Non-trainable params: 1,504\n",
      "_________________________________________________________________\n",
      "None\n"
     ]
    },
    {
     "name": "stderr",
     "output_type": "stream",
     "text": [
      "/tmp/ipykernel_206/81854442.py:34: UserWarning: `Model.fit_generator` is deprecated and will be removed in a future version. Please use `Model.fit`, which supports generators.\n",
      "  history=model.fit_generator(train_generator, steps_per_epoch=steps_per_epoch, epochs=num_epochs, verbose=1,\n"
     ]
    },
    {
     "name": "stdout",
     "output_type": "stream",
     "text": [
      "Epoch 1/20\n"
     ]
    },
    {
     "name": "stderr",
     "output_type": "stream",
     "text": [
      "2024-07-02 20:46:47.916666: I tensorflow/stream_executor/cuda/cuda_dnn.cc:377] Loaded cuDNN version 8302\n"
     ]
    },
    {
     "name": "stdout",
     "output_type": "stream",
     "text": [
      "34/34 [==============================] - ETA: 0s - loss: 1.8765 - categorical_accuracy: 0.4005\n",
      "Epoch 00001: val_loss improved from inf to 2.75865, saving model to model_init_2024-07-0220_46_39.353645/model-00001-1.87649-0.40045-2.75865-0.21000.h5\n",
      "34/34 [==============================] - 237s 7s/step - loss: 1.8765 - categorical_accuracy: 0.4005 - val_loss: 2.7586 - val_categorical_accuracy: 0.2100 - lr: 2.0000e-04\n",
      "Epoch 2/20\n",
      "34/34 [==============================] - ETA: 0s - loss: 1.4563 - categorical_accuracy: 0.4932\n",
      "Epoch 00002: val_loss did not improve from 2.75865\n",
      "34/34 [==============================] - 223s 7s/step - loss: 1.4563 - categorical_accuracy: 0.4932 - val_loss: 4.5371 - val_categorical_accuracy: 0.2100 - lr: 2.0000e-04\n",
      "Epoch 3/20\n",
      "34/34 [==============================] - ETA: 0s - loss: 1.1805 - categorical_accuracy: 0.6071\n",
      "Epoch 00003: val_loss did not improve from 2.75865\n",
      "34/34 [==============================] - 220s 7s/step - loss: 1.1805 - categorical_accuracy: 0.6071 - val_loss: 5.7338 - val_categorical_accuracy: 0.2600 - lr: 2.0000e-04\n",
      "Epoch 4/20\n",
      "34/34 [==============================] - ETA: 0s - loss: 1.0604 - categorical_accuracy: 0.6312\n",
      "Epoch 00004: val_loss did not improve from 2.75865\n",
      "34/34 [==============================] - 219s 7s/step - loss: 1.0604 - categorical_accuracy: 0.6312 - val_loss: 7.8654 - val_categorical_accuracy: 0.1500 - lr: 2.0000e-04\n",
      "Epoch 5/20\n",
      "34/34 [==============================] - ETA: 0s - loss: 0.8932 - categorical_accuracy: 0.6863\n",
      "Epoch 00005: val_loss did not improve from 2.75865\n",
      "\n",
      "Epoch 00005: ReduceLROnPlateau reducing learning rate to 3.9999998989515007e-05.\n",
      "34/34 [==============================] - 222s 7s/step - loss: 0.8932 - categorical_accuracy: 0.6863 - val_loss: 7.3614 - val_categorical_accuracy: 0.2800 - lr: 2.0000e-04\n",
      "Epoch 6/20\n",
      "34/34 [==============================] - ETA: 0s - loss: 0.7867 - categorical_accuracy: 0.6998\n",
      "Epoch 00006: val_loss did not improve from 2.75865\n",
      "34/34 [==============================] - 219s 7s/step - loss: 0.7867 - categorical_accuracy: 0.6998 - val_loss: 8.2505 - val_categorical_accuracy: 0.2700 - lr: 4.0000e-05\n",
      "Epoch 7/20\n",
      "34/34 [==============================] - ETA: 0s - loss: 0.7561 - categorical_accuracy: 0.7240\n",
      "Epoch 00007: val_loss did not improve from 2.75865\n",
      "34/34 [==============================] - 217s 7s/step - loss: 0.7561 - categorical_accuracy: 0.7240 - val_loss: 8.0793 - val_categorical_accuracy: 0.2400 - lr: 4.0000e-05\n",
      "Epoch 8/20\n",
      "34/34 [==============================] - ETA: 0s - loss: 0.6801 - categorical_accuracy: 0.7541\n",
      "Epoch 00008: val_loss did not improve from 2.75865\n",
      "34/34 [==============================] - 219s 7s/step - loss: 0.6801 - categorical_accuracy: 0.7541 - val_loss: 8.6557 - val_categorical_accuracy: 0.2600 - lr: 4.0000e-05\n",
      "Epoch 9/20\n",
      "34/34 [==============================] - ETA: 0s - loss: 0.6755 - categorical_accuracy: 0.7421\n",
      "Epoch 00009: val_loss did not improve from 2.75865\n",
      "\n",
      "Epoch 00009: ReduceLROnPlateau reducing learning rate to 7.999999797903002e-06.\n",
      "34/34 [==============================] - 215s 6s/step - loss: 0.6755 - categorical_accuracy: 0.7421 - val_loss: 9.7171 - val_categorical_accuracy: 0.1400 - lr: 4.0000e-05\n",
      "Epoch 10/20\n",
      "34/34 [==============================] - ETA: 0s - loss: 0.6596 - categorical_accuracy: 0.7692\n",
      "Epoch 00010: val_loss did not improve from 2.75865\n",
      "34/34 [==============================] - 216s 7s/step - loss: 0.6596 - categorical_accuracy: 0.7692 - val_loss: 8.1031 - val_categorical_accuracy: 0.2500 - lr: 8.0000e-06\n",
      "Epoch 11/20\n",
      "34/34 [==============================] - ETA: 0s - loss: 0.6514 - categorical_accuracy: 0.7466\n",
      "Epoch 00011: val_loss did not improve from 2.75865\n",
      "34/34 [==============================] - 216s 7s/step - loss: 0.6514 - categorical_accuracy: 0.7466 - val_loss: 7.8098 - val_categorical_accuracy: 0.2200 - lr: 8.0000e-06\n",
      "Epoch 00011: early stopping\n"
     ]
    },
    {
     "data": {
      "image/png": "[encoded data removed]",
      "text/plain": [
       "<Figure size 1080x288 with 2 Axes>"
      ]
     },
     "metadata": {
      "needs_background": "light"
     },
     "output_type": "display_data"
    }
   ],
   "source": [
    "image_height = 160\n",
    "image_width = 160\n",
    "channels=3\n",
    "num_classes=5\n",
    "total_frames=30\n",
    "frames_to_sample=20\n",
    "batch_size=20\n",
    "num_epochs=20\n",
    "\n",
    "#Total Params: 3638981\n",
    "cnn_3d_model3 = Model_3D_1(dense_neurons=256,dropout=0.5)\n",
    "optimiser = Adam(learning_rate=0.0002)\n",
    "cnn_3d_model3.compile(optimizer=optimiser, loss='categorical_crossentropy', metrics=['categorical_accuracy'])\n",
    "print (cnn_3d_model3.summary())\n",
    "cnn_3d_model4_history = train_model(cnn_3d_model3,  batch_size, total_frames, frames_to_sample,image_height,image_width, num_epochs,augment_data=True)\n",
    "plot(cnn_3d_model4_history)"
   ]
  },
  {
   "cell_type": "markdown",
   "metadata": {},
   "source": [
    "### Conv3d - Experiment 6"
   ]
  },
  {
   "cell_type": "code",
   "execution_count": 11,
   "metadata": {
    "scrolled": false
   },
   "outputs": [
    {
     "name": "stdout",
     "output_type": "stream",
     "text": [
      "Model: \"sequential_1\"\n",
      "_________________________________________________________________\n",
      " Layer (type)                Output Shape              Param #   \n",
      "=================================================================\n",
      " conv3d_4 (Conv3D)           (None, 16, 120, 120, 16)  400       \n",
      "                                                                 \n",
      " activation_4 (Activation)   (None, 16, 120, 120, 16)  0         \n",
      "                                                                 \n",
      " batch_normalization_6 (Batc  (None, 16, 120, 120, 16)  64       \n",
      " hNormalization)                                                 \n",
      "                                                                 \n",
      " max_pooling3d_4 (MaxPooling  (None, 8, 60, 60, 16)    0         \n",
      " 3D)                                                             \n",
      "                                                                 \n",
      " conv3d_5 (Conv3D)           (None, 8, 60, 60, 32)     4128      \n",
      "                                                                 \n",
      " activation_5 (Activation)   (None, 8, 60, 60, 32)     0         \n",
      "                                                                 \n",
      " batch_normalization_7 (Batc  (None, 8, 60, 60, 32)    128       \n",
      " hNormalization)                                                 \n",
      "                                                                 \n",
      " max_pooling3d_5 (MaxPooling  (None, 4, 30, 30, 32)    0         \n",
      " 3D)                                                             \n",
      "                                                                 \n",
      " conv3d_6 (Conv3D)           (None, 4, 30, 30, 64)     16448     \n",
      "                                                                 \n",
      " activation_6 (Activation)   (None, 4, 30, 30, 64)     0         \n",
      "                                                                 \n",
      " batch_normalization_8 (Batc  (None, 4, 30, 30, 64)    256       \n",
      " hNormalization)                                                 \n",
      "                                                                 \n",
      " max_pooling3d_6 (MaxPooling  (None, 2, 15, 15, 64)    0         \n",
      " 3D)                                                             \n",
      "                                                                 \n",
      " conv3d_7 (Conv3D)           (None, 2, 15, 15, 128)    65664     \n",
      "                                                                 \n",
      " activation_7 (Activation)   (None, 2, 15, 15, 128)    0         \n",
      "                                                                 \n",
      " batch_normalization_9 (Batc  (None, 2, 15, 15, 128)   512       \n",
      " hNormalization)                                                 \n",
      "                                                                 \n",
      " max_pooling3d_7 (MaxPooling  (None, 1, 7, 7, 128)     0         \n",
      " 3D)                                                             \n",
      "                                                                 \n",
      " flatten_1 (Flatten)         (None, 6272)              0         \n",
      "                                                                 \n",
      " dense_3 (Dense)             (None, 256)               1605888   \n",
      "                                                                 \n",
      " batch_normalization_10 (Bat  (None, 256)              1024      \n",
      " chNormalization)                                                \n",
      "                                                                 \n",
      " dropout_2 (Dropout)         (None, 256)               0         \n",
      "                                                                 \n",
      " dense_4 (Dense)             (None, 256)               65792     \n",
      "                                                                 \n",
      " batch_normalization_11 (Bat  (None, 256)              1024      \n",
      " chNormalization)                                                \n",
      "                                                                 \n",
      " dropout_3 (Dropout)         (None, 256)               0         \n",
      "                                                                 \n",
      " dense_5 (Dense)             (None, 5)                 1285      \n",
      "                                                                 \n",
      "=================================================================\n",
      "Total params: 1,762,613\n",
      "Trainable params: 1,761,109\n",
      "Non-trainable params: 1,504\n",
      "_________________________________________________________________\n",
      "None\n"
     ]
    },
    {
     "name": "stderr",
     "output_type": "stream",
     "text": [
      "/tmp/ipykernel_206/81854442.py:34: UserWarning: `Model.fit_generator` is deprecated and will be removed in a future version. Please use `Model.fit`, which supports generators.\n",
      "  history=model.fit_generator(train_generator, steps_per_epoch=steps_per_epoch, epochs=num_epochs, verbose=1,\n"
     ]
    },
    {
     "name": "stdout",
     "output_type": "stream",
     "text": [
      "Epoch 1/25\n",
      "23/23 [==============================] - ETA: 0s - loss: 2.1730 - categorical_accuracy: 0.3243\n",
      "Epoch 00001: val_loss improved from inf to 1.74093, saving model to model_init_2024-07-0221_27_08.566306/model-00001-2.17300-0.32428-1.74093-0.21000.h5\n",
      "23/23 [==============================] - 156s 7s/step - loss: 2.1730 - categorical_accuracy: 0.3243 - val_loss: 1.7409 - val_categorical_accuracy: 0.2100 - lr: 2.0000e-04\n",
      "Epoch 2/25\n",
      "23/23 [==============================] - ETA: 0s - loss: 1.4497 - categorical_accuracy: 0.5158\n",
      "Epoch 00002: val_loss did not improve from 1.74093\n",
      "23/23 [==============================] - 152s 7s/step - loss: 1.4497 - categorical_accuracy: 0.5158 - val_loss: 2.7105 - val_categorical_accuracy: 0.1800 - lr: 2.0000e-04\n",
      "Epoch 3/25\n",
      "23/23 [==============================] - ETA: 0s - loss: 1.3206 - categorical_accuracy: 0.5354\n",
      "Epoch 00003: val_loss did not improve from 1.74093\n",
      "23/23 [==============================] - 151s 7s/step - loss: 1.3206 - categorical_accuracy: 0.5354 - val_loss: 3.3676 - val_categorical_accuracy: 0.2500 - lr: 2.0000e-04\n",
      "Epoch 4/25\n",
      "23/23 [==============================] - ETA: 0s - loss: 1.1808 - categorical_accuracy: 0.5792\n",
      "Epoch 00004: val_loss did not improve from 1.74093\n",
      "23/23 [==============================] - 145s 7s/step - loss: 1.1808 - categorical_accuracy: 0.5792 - val_loss: 4.3563 - val_categorical_accuracy: 0.2800 - lr: 2.0000e-04\n",
      "Epoch 5/25\n",
      "23/23 [==============================] - ETA: 0s - loss: 0.9992 - categorical_accuracy: 0.6297\n",
      "Epoch 00005: val_loss did not improve from 1.74093\n",
      "\n",
      "Epoch 00005: ReduceLROnPlateau reducing learning rate to 3.9999998989515007e-05.\n",
      "23/23 [==============================] - 149s 7s/step - loss: 0.9992 - categorical_accuracy: 0.6297 - val_loss: 5.3628 - val_categorical_accuracy: 0.1600 - lr: 2.0000e-04\n",
      "Epoch 6/25\n",
      "23/23 [==============================] - ETA: 0s - loss: 0.9779 - categorical_accuracy: 0.6621\n",
      "Epoch 00006: val_loss did not improve from 1.74093\n",
      "23/23 [==============================] - 153s 7s/step - loss: 0.9779 - categorical_accuracy: 0.6621 - val_loss: 5.6016 - val_categorical_accuracy: 0.2400 - lr: 4.0000e-05\n",
      "Epoch 7/25\n",
      "23/23 [==============================] - ETA: 0s - loss: 0.9100 - categorical_accuracy: 0.6795\n",
      "Epoch 00007: val_loss did not improve from 1.74093\n",
      "23/23 [==============================] - 147s 7s/step - loss: 0.9100 - categorical_accuracy: 0.6795 - val_loss: 6.4563 - val_categorical_accuracy: 0.2800 - lr: 4.0000e-05\n",
      "Epoch 8/25\n",
      "23/23 [==============================] - ETA: 0s - loss: 0.8659 - categorical_accuracy: 0.6998\n",
      "Epoch 00008: val_loss did not improve from 1.74093\n",
      "23/23 [==============================] - 150s 7s/step - loss: 0.8659 - categorical_accuracy: 0.6998 - val_loss: 6.6387 - val_categorical_accuracy: 0.3000 - lr: 4.0000e-05\n",
      "Epoch 9/25\n",
      "23/23 [==============================] - ETA: 0s - loss: 0.8648 - categorical_accuracy: 0.6976\n",
      "Epoch 00009: val_loss did not improve from 1.74093\n",
      "\n",
      "Epoch 00009: ReduceLROnPlateau reducing learning rate to 7.999999797903002e-06.\n",
      "23/23 [==============================] - 151s 7s/step - loss: 0.8648 - categorical_accuracy: 0.6976 - val_loss: 6.9011 - val_categorical_accuracy: 0.2500 - lr: 4.0000e-05\n",
      "Epoch 10/25\n",
      "23/23 [==============================] - ETA: 0s - loss: 0.8297 - categorical_accuracy: 0.7021\n",
      "Epoch 00010: val_loss did not improve from 1.74093\n",
      "23/23 [==============================] - 153s 7s/step - loss: 0.8297 - categorical_accuracy: 0.7021 - val_loss: 6.4385 - val_categorical_accuracy: 0.2600 - lr: 8.0000e-06\n",
      "Epoch 11/25\n",
      "23/23 [==============================] - ETA: 0s - loss: 0.8418 - categorical_accuracy: 0.6900\n",
      "Epoch 00011: val_loss did not improve from 1.74093\n",
      "23/23 [==============================] - 157s 7s/step - loss: 0.8418 - categorical_accuracy: 0.6900 - val_loss: 7.2923 - val_categorical_accuracy: 0.2400 - lr: 8.0000e-06\n",
      "Epoch 00011: early stopping\n"
     ]
    },
    {
     "data": {
      "image/png": "[encoded data removed]",
      "text/plain": [
       "<Figure size 1080x288 with 2 Axes>"
      ]
     },
     "metadata": {
      "needs_background": "light"
     },
     "output_type": "display_data"
    }
   ],
   "source": [
    "image_height = 120\n",
    "image_width = 120\n",
    "channels=3\n",
    "num_classes=5\n",
    "total_frames=30\n",
    "frames_to_sample=16\n",
    "batch_size=30\n",
    "num_epochs=25\n",
    "\n",
    "#Total Params: 3638981\n",
    "cnn_3d_model4 = Model_3D_1(filtersize=(2,2,2),dense_neurons=256,dropout=0.5)\n",
    "optimiser = Adam(learning_rate=0.0002)\n",
    "cnn_3d_model4.compile(optimizer=optimiser, loss='categorical_crossentropy', metrics=['categorical_accuracy'])\n",
    "print (cnn_3d_model4.summary())\n",
    "cnn_3d_model5_history = train_model(cnn_3d_model4, batch_size, total_frames, frames_to_sample,image_height,image_width, num_epochs, augment_data=True)\n",
    "plot(cnn_3d_model5_history)"
   ]
  },
  {
   "cell_type": "markdown",
   "metadata": {},
   "source": [
    "### Conv2d + LSTM - Experiment 7"
   ]
  },
  {
   "cell_type": "markdown",
   "metadata": {},
   "source": [
    "Lets try LSTM and GRU models now!"
   ]
  },
  {
   "cell_type": "code",
   "execution_count": 12,
   "metadata": {},
   "outputs": [],
   "source": [
    "def cnn2d_lstm_model(lstm_cells=64,dense_neurons=64,dropout=0.25):\n",
    "\n",
    "        model = Sequential()\n",
    "\n",
    "        model.add(TimeDistributed(Conv2D(16, (3, 3) , padding='same', activation='relu'),\n",
    "                                  input_shape=(frames_to_sample,image_height,image_width,3)))\n",
    "        model.add(TimeDistributed(BatchNormalization()))\n",
    "        model.add(TimeDistributed(MaxPooling2D((2, 2))))\n",
    "        \n",
    "        model.add(TimeDistributed(Conv2D(32, (3, 3) , padding='same', activation='relu')))\n",
    "        model.add(TimeDistributed(BatchNormalization()))\n",
    "        model.add(TimeDistributed(MaxPooling2D((2, 2))))\n",
    "        \n",
    "        model.add(TimeDistributed(Conv2D(64, (3, 3) , padding='same', activation='relu')))\n",
    "        model.add(TimeDistributed(BatchNormalization()))\n",
    "        model.add(TimeDistributed(MaxPooling2D((2, 2))))\n",
    "        \n",
    "        model.add(TimeDistributed(Conv2D(128, (3, 3) , padding='same', activation='relu')))\n",
    "        model.add(TimeDistributed(BatchNormalization()))\n",
    "        model.add(TimeDistributed(MaxPooling2D((2, 2))))\n",
    "        \n",
    "\n",
    "        model.add(TimeDistributed(Flatten()))\n",
    "\n",
    "\n",
    "        model.add(LSTM(lstm_cells))\n",
    "        model.add(Dropout(dropout))\n",
    "        \n",
    "        model.add(Dense(dense_neurons,activation='relu'))\n",
    "        model.add(Dropout(dropout))\n",
    "        \n",
    "        model.add(Dense(5, activation='softmax'))\n",
    "        \n",
    "        return model"
   ]
  },
  {
   "cell_type": "code",
   "execution_count": 13,
   "metadata": {
    "scrolled": false
   },
   "outputs": [
    {
     "name": "stderr",
     "output_type": "stream",
     "text": [
      "/usr/local/lib/python3.8/dist-packages/keras/optimizer_v2/adam.py:105: UserWarning: The `lr` argument is deprecated, use `learning_rate` instead.\n",
      "  super(Adam, self).__init__(name, **kwargs)\n",
      "/tmp/ipykernel_206/81854442.py:34: UserWarning: `Model.fit_generator` is deprecated and will be removed in a future version. Please use `Model.fit`, which supports generators.\n",
      "  history=model.fit_generator(train_generator, steps_per_epoch=steps_per_epoch, epochs=num_epochs, verbose=1,\n"
     ]
    },
    {
     "name": "stdout",
     "output_type": "stream",
     "text": [
      "Model: \"sequential_2\"\n",
      "_________________________________________________________________\n",
      " Layer (type)                Output Shape              Param #   \n",
      "=================================================================\n",
      " time_distributed (TimeDistr  (None, 15, 120, 120, 16)  448      \n",
      " ibuted)                                                         \n",
      "                                                                 \n",
      " time_distributed_1 (TimeDis  (None, 15, 120, 120, 16)  64       \n",
      " tributed)                                                       \n",
      "                                                                 \n",
      " time_distributed_2 (TimeDis  (None, 15, 60, 60, 16)   0         \n",
      " tributed)                                                       \n",
      "                                                                 \n",
      " time_distributed_3 (TimeDis  (None, 15, 60, 60, 32)   4640      \n",
      " tributed)                                                       \n",
      "                                                                 \n",
      " time_distributed_4 (TimeDis  (None, 15, 60, 60, 32)   128       \n",
      " tributed)                                                       \n",
      "                                                                 \n",
      " time_distributed_5 (TimeDis  (None, 15, 30, 30, 32)   0         \n",
      " tributed)                                                       \n",
      "                                                                 \n",
      " time_distributed_6 (TimeDis  (None, 15, 30, 30, 64)   18496     \n",
      " tributed)                                                       \n",
      "                                                                 \n",
      " time_distributed_7 (TimeDis  (None, 15, 30, 30, 64)   256       \n",
      " tributed)                                                       \n",
      "                                                                 \n",
      " time_distributed_8 (TimeDis  (None, 15, 15, 15, 64)   0         \n",
      " tributed)                                                       \n",
      "                                                                 \n",
      " time_distributed_9 (TimeDis  (None, 15, 15, 15, 128)  73856     \n",
      " tributed)                                                       \n",
      "                                                                 \n",
      " time_distributed_10 (TimeDi  (None, 15, 15, 15, 128)  512       \n",
      " stributed)                                                      \n",
      "                                                                 \n",
      " time_distributed_11 (TimeDi  (None, 15, 7, 7, 128)    0         \n",
      " stributed)                                                      \n",
      "                                                                 \n",
      " time_distributed_12 (TimeDi  (None, 15, 6272)         0         \n",
      " stributed)                                                      \n",
      "                                                                 \n",
      " lstm (LSTM)                 (None, 128)               3277312   \n",
      "                                                                 \n",
      " dropout_4 (Dropout)         (None, 128)               0         \n",
      "                                                                 \n",
      " dense_6 (Dense)             (None, 128)               16512     \n",
      "                                                                 \n",
      " dropout_5 (Dropout)         (None, 128)               0         \n",
      "                                                                 \n",
      " dense_7 (Dense)             (None, 5)                 645       \n",
      "                                                                 \n",
      "=================================================================\n",
      "Total params: 3,392,869\n",
      "Trainable params: 3,392,389\n",
      "Non-trainable params: 480\n",
      "_________________________________________________________________\n",
      "None\n",
      "Epoch 1/20\n",
      "34/34 [==============================] - ETA: 0s - loss: 1.4463 - categorical_accuracy: 0.3590\n",
      "Epoch 00001: val_loss improved from inf to 1.63719, saving model to model_init_2024-07-0221_54_59.689532/model-00001-1.44632-0.35897-1.63719-0.21000.h5\n",
      "34/34 [==============================] - 152s 5s/step - loss: 1.4463 - categorical_accuracy: 0.3590 - val_loss: 1.6372 - val_categorical_accuracy: 0.2100 - lr: 2.0000e-04\n",
      "Epoch 2/20\n",
      "34/34 [==============================] - ETA: 0s - loss: 1.1365 - categorical_accuracy: 0.5339\n",
      "Epoch 00002: val_loss did not improve from 1.63719\n",
      "34/34 [==============================] - 145s 4s/step - loss: 1.1365 - categorical_accuracy: 0.5339 - val_loss: 1.6379 - val_categorical_accuracy: 0.2500 - lr: 2.0000e-04\n",
      "Epoch 3/20\n",
      "34/34 [==============================] - ETA: 0s - loss: 0.9546 - categorical_accuracy: 0.6335\n",
      "Epoch 00003: val_loss improved from 1.63719 to 1.63617, saving model to model_init_2024-07-0221_54_59.689532/model-00003-0.95457-0.63348-1.63617-0.16000.h5\n",
      "34/34 [==============================] - 149s 5s/step - loss: 0.9546 - categorical_accuracy: 0.6335 - val_loss: 1.6362 - val_categorical_accuracy: 0.1600 - lr: 2.0000e-04\n",
      "Epoch 4/20\n",
      "34/34 [==============================] - ETA: 0s - loss: 0.8102 - categorical_accuracy: 0.7119\n",
      "Epoch 00004: val_loss did not improve from 1.63617\n",
      "34/34 [==============================] - 150s 5s/step - loss: 0.8102 - categorical_accuracy: 0.7119 - val_loss: 1.7242 - val_categorical_accuracy: 0.2800 - lr: 2.0000e-04\n",
      "Epoch 5/20\n",
      "34/34 [==============================] - ETA: 0s - loss: 0.7127 - categorical_accuracy: 0.7353\n",
      "Epoch 00005: val_loss did not improve from 1.63617\n",
      "34/34 [==============================] - 145s 4s/step - loss: 0.7127 - categorical_accuracy: 0.7353 - val_loss: 1.7362 - val_categorical_accuracy: 0.1800 - lr: 2.0000e-04\n",
      "Epoch 6/20\n",
      "34/34 [==============================] - ETA: 0s - loss: 0.6131 - categorical_accuracy: 0.7783\n",
      "Epoch 00006: val_loss did not improve from 1.63617\n",
      "34/34 [==============================] - 146s 4s/step - loss: 0.6131 - categorical_accuracy: 0.7783 - val_loss: 1.6644 - val_categorical_accuracy: 0.2800 - lr: 2.0000e-04\n",
      "Epoch 7/20\n",
      "34/34 [==============================] - ETA: 0s - loss: 0.5361 - categorical_accuracy: 0.8100\n",
      "Epoch 00007: val_loss did not improve from 1.63617\n",
      "\n",
      "Epoch 00007: ReduceLROnPlateau reducing learning rate to 3.9999998989515007e-05.\n",
      "34/34 [==============================] - 148s 4s/step - loss: 0.5361 - categorical_accuracy: 0.8100 - val_loss: 1.7152 - val_categorical_accuracy: 0.2500 - lr: 2.0000e-04\n",
      "Epoch 8/20\n",
      "34/34 [==============================] - ETA: 0s - loss: 0.4252 - categorical_accuracy: 0.8688\n",
      "Epoch 00008: val_loss did not improve from 1.63617\n",
      "34/34 [==============================] - 155s 5s/step - loss: 0.4252 - categorical_accuracy: 0.8688 - val_loss: 1.8173 - val_categorical_accuracy: 0.2300 - lr: 4.0000e-05\n",
      "Epoch 9/20\n",
      "34/34 [==============================] - ETA: 0s - loss: 0.3915 - categorical_accuracy: 0.8816\n",
      "Epoch 00009: val_loss did not improve from 1.63617\n",
      "34/34 [==============================] - 153s 5s/step - loss: 0.3915 - categorical_accuracy: 0.8816 - val_loss: 1.8198 - val_categorical_accuracy: 0.2700 - lr: 4.0000e-05\n",
      "Epoch 10/20\n",
      "34/34 [==============================] - ETA: 0s - loss: 0.3369 - categorical_accuracy: 0.9050\n",
      "Epoch 00010: val_loss did not improve from 1.63617\n",
      "34/34 [==============================] - 146s 4s/step - loss: 0.3369 - categorical_accuracy: 0.9050 - val_loss: 1.7954 - val_categorical_accuracy: 0.3800 - lr: 4.0000e-05\n",
      "Epoch 11/20\n",
      "34/34 [==============================] - ETA: 0s - loss: 0.3083 - categorical_accuracy: 0.9065\n",
      "Epoch 00011: val_loss did not improve from 1.63617\n",
      "\n",
      "Epoch 00011: ReduceLROnPlateau reducing learning rate to 7.999999797903002e-06.\n",
      "34/34 [==============================] - 143s 4s/step - loss: 0.3083 - categorical_accuracy: 0.9065 - val_loss: 1.8707 - val_categorical_accuracy: 0.3500 - lr: 4.0000e-05\n",
      "Epoch 12/20\n",
      "34/34 [==============================] - ETA: 0s - loss: 0.2913 - categorical_accuracy: 0.9284\n",
      "Epoch 00012: val_loss did not improve from 1.63617\n",
      "34/34 [==============================] - 146s 4s/step - loss: 0.2913 - categorical_accuracy: 0.9284 - val_loss: 1.7797 - val_categorical_accuracy: 0.3600 - lr: 8.0000e-06\n",
      "Epoch 13/20\n",
      "34/34 [==============================] - ETA: 0s - loss: 0.2739 - categorical_accuracy: 0.9284\n",
      "Epoch 00013: val_loss improved from 1.63617 to 1.38236, saving model to model_init_2024-07-0221_54_59.689532/model-00013-0.27386-0.92836-1.38236-0.57000.h5\n",
      "34/34 [==============================] - 144s 4s/step - loss: 0.2739 - categorical_accuracy: 0.9284 - val_loss: 1.3824 - val_categorical_accuracy: 0.5700 - lr: 8.0000e-06\n",
      "Epoch 14/20\n",
      "34/34 [==============================] - ETA: 0s - loss: 0.2815 - categorical_accuracy: 0.9314\n",
      "Epoch 00014: val_loss improved from 1.38236 to 1.35061, saving model to model_init_2024-07-0221_54_59.689532/model-00014-0.28148-0.93137-1.35061-0.54000.h5\n",
      "34/34 [==============================] - 146s 4s/step - loss: 0.2815 - categorical_accuracy: 0.9314 - val_loss: 1.3506 - val_categorical_accuracy: 0.5400 - lr: 8.0000e-06\n",
      "Epoch 15/20\n",
      "34/34 [==============================] - ETA: 0s - loss: 0.2796 - categorical_accuracy: 0.9201\n",
      "Epoch 00015: val_loss improved from 1.35061 to 1.10265, saving model to model_init_2024-07-0221_54_59.689532/model-00015-0.27960-0.92006-1.10265-0.56000.h5\n",
      "34/34 [==============================] - 144s 4s/step - loss: 0.2796 - categorical_accuracy: 0.9201 - val_loss: 1.1026 - val_categorical_accuracy: 0.5600 - lr: 8.0000e-06\n",
      "Epoch 16/20\n",
      "34/34 [==============================] - ETA: 0s - loss: 0.2638 - categorical_accuracy: 0.9321\n",
      "Epoch 00016: val_loss improved from 1.10265 to 1.01413, saving model to model_init_2024-07-0221_54_59.689532/model-00016-0.26379-0.93213-1.01413-0.60000.h5\n",
      "34/34 [==============================] - 144s 4s/step - loss: 0.2638 - categorical_accuracy: 0.9321 - val_loss: 1.0141 - val_categorical_accuracy: 0.6000 - lr: 8.0000e-06\n",
      "Epoch 17/20\n",
      "34/34 [==============================] - ETA: 0s - loss: 0.2551 - categorical_accuracy: 0.9268\n",
      "Epoch 00017: val_loss improved from 1.01413 to 0.91482, saving model to model_init_2024-07-0221_54_59.689532/model-00017-0.25514-0.92685-0.91482-0.61000.h5\n",
      "34/34 [==============================] - 146s 4s/step - loss: 0.2551 - categorical_accuracy: 0.9268 - val_loss: 0.9148 - val_categorical_accuracy: 0.6100 - lr: 8.0000e-06\n",
      "Epoch 18/20\n",
      "34/34 [==============================] - ETA: 0s - loss: 0.2515 - categorical_accuracy: 0.9434\n",
      "Epoch 00018: val_loss improved from 0.91482 to 0.79803, saving model to model_init_2024-07-0221_54_59.689532/model-00018-0.25149-0.94344-0.79803-0.64000.h5\n",
      "34/34 [==============================] - 145s 4s/step - loss: 0.2515 - categorical_accuracy: 0.9434 - val_loss: 0.7980 - val_categorical_accuracy: 0.6400 - lr: 8.0000e-06\n",
      "Epoch 19/20\n",
      "34/34 [==============================] - ETA: 0s - loss: 0.2604 - categorical_accuracy: 0.9268\n",
      "Epoch 00019: val_loss did not improve from 0.79803\n",
      "34/34 [==============================] - 149s 5s/step - loss: 0.2604 - categorical_accuracy: 0.9268 - val_loss: 0.8269 - val_categorical_accuracy: 0.6200 - lr: 8.0000e-06\n",
      "Epoch 20/20\n",
      "34/34 [==============================] - ETA: 0s - loss: 0.2386 - categorical_accuracy: 0.9465\n",
      "Epoch 00020: val_loss improved from 0.79803 to 0.66879, saving model to model_init_2024-07-0221_54_59.689532/model-00020-0.23857-0.94646-0.66879-0.69000.h5\n",
      "34/34 [==============================] - 146s 4s/step - loss: 0.2386 - categorical_accuracy: 0.9465 - val_loss: 0.6688 - val_categorical_accuracy: 0.6900 - lr: 8.0000e-06\n"
     ]
    },
    {
     "data": {
      "image/png": "[encoded data removed]",
      "text/plain": [
       "<Figure size 1080x288 with 2 Axes>"
      ]
     },
     "metadata": {
      "needs_background": "light"
     },
     "output_type": "display_data"
    }
   ],
   "source": [
    "image_height = 120\n",
    "image_width = 120\n",
    "channels=3\n",
    "num_classes=5\n",
    "total_frames=30\n",
    "frames_to_sample=15\n",
    "batch_size=20\n",
    "num_epochs=20\n",
    "\n",
    "cnn2d_lstm_model1 = cnn2d_lstm_model(lstm_cells=128,dense_neurons=128,dropout=0.25)\n",
    "optimiser = Adam(lr=0.0002)\n",
    "cnn2d_lstm_model1.compile(optimizer=optimiser, loss='categorical_crossentropy', metrics=['categorical_accuracy'])\n",
    "print (cnn2d_lstm_model1.summary())\n",
    "cnn2d_lstm_model1_history = train_model(cnn2d_lstm_model1, batch_size, total_frames, frames_to_sample,image_height,image_width, num_epochs, augment_data=True)\n",
    "plot(cnn2d_lstm_model1_history)"
   ]
  },
  {
   "cell_type": "markdown",
   "metadata": {},
   "source": [
    "After using LSTM the validation accuracy improved and it is the best accuracy so far."
   ]
  },
  {
   "cell_type": "markdown",
   "metadata": {},
   "source": [
    "### Conv2d + GRU - Experiment 8"
   ]
  },
  {
   "cell_type": "code",
   "execution_count": 14,
   "metadata": {
    "scrolled": true
   },
   "outputs": [],
   "source": [
    "def cnn2d_gru_model(gru_cells=64,dense_neurons=64,dropout=0.25):\n",
    "\n",
    "        model = Sequential()\n",
    "\n",
    "        model.add(TimeDistributed(Conv2D(16, (3, 3) , padding='same', activation='relu'),\n",
    "                                  input_shape=(frames_to_sample,image_height,image_width,3)))\n",
    "        model.add(TimeDistributed(BatchNormalization()))\n",
    "        model.add(TimeDistributed(MaxPooling2D((2, 2))))\n",
    "        \n",
    "        model.add(TimeDistributed(Conv2D(32, (3, 3) , padding='same', activation='relu')))\n",
    "        model.add(TimeDistributed(BatchNormalization()))\n",
    "        model.add(TimeDistributed(MaxPooling2D((2, 2))))\n",
    "        \n",
    "        model.add(TimeDistributed(Conv2D(64, (3, 3) , padding='same', activation='relu')))\n",
    "        model.add(TimeDistributed(BatchNormalization()))\n",
    "        model.add(TimeDistributed(MaxPooling2D((2, 2))))\n",
    "        \n",
    "        model.add(TimeDistributed(Conv2D(128, (3, 3) , padding='same', activation='relu')))\n",
    "        model.add(TimeDistributed(BatchNormalization()))\n",
    "        model.add(TimeDistributed(MaxPooling2D((2, 2))))\n",
    "        \n",
    "\n",
    "        model.add(TimeDistributed(Flatten()))\n",
    "\n",
    "\n",
    "        model.add(GRU(gru_cells))\n",
    "        model.add(Dropout(dropout))\n",
    "        \n",
    "        model.add(Dense(dense_neurons,activation='relu'))\n",
    "        model.add(Dropout(dropout))\n",
    "        \n",
    "        model.add(Dense(5, activation='softmax'))\n",
    "\n",
    "        return model"
   ]
  },
  {
   "cell_type": "code",
   "execution_count": 15,
   "metadata": {
    "scrolled": false
   },
   "outputs": [
    {
     "name": "stdout",
     "output_type": "stream",
     "text": [
      "Model: \"sequential_3\"\n",
      "_________________________________________________________________\n",
      " Layer (type)                Output Shape              Param #   \n",
      "=================================================================\n",
      " time_distributed_13 (TimeDi  (None, 15, 120, 120, 16)  448      \n",
      " stributed)                                                      \n",
      "                                                                 \n",
      " time_distributed_14 (TimeDi  (None, 15, 120, 120, 16)  64       \n",
      " stributed)                                                      \n",
      "                                                                 \n",
      " time_distributed_15 (TimeDi  (None, 15, 60, 60, 16)   0         \n",
      " stributed)                                                      \n",
      "                                                                 \n",
      " time_distributed_16 (TimeDi  (None, 15, 60, 60, 32)   4640      \n",
      " stributed)                                                      \n",
      "                                                                 \n",
      " time_distributed_17 (TimeDi  (None, 15, 60, 60, 32)   128       \n",
      " stributed)                                                      \n",
      "                                                                 \n",
      " time_distributed_18 (TimeDi  (None, 15, 30, 30, 32)   0         \n",
      " stributed)                                                      \n",
      "                                                                 \n",
      " time_distributed_19 (TimeDi  (None, 15, 30, 30, 64)   18496     \n",
      " stributed)                                                      \n",
      "                                                                 \n",
      " time_distributed_20 (TimeDi  (None, 15, 30, 30, 64)   256       \n",
      " stributed)                                                      \n",
      "                                                                 \n",
      " time_distributed_21 (TimeDi  (None, 15, 15, 15, 64)   0         \n",
      " stributed)                                                      \n",
      "                                                                 \n",
      " time_distributed_22 (TimeDi  (None, 15, 15, 15, 128)  73856     \n",
      " stributed)                                                      \n",
      "                                                                 \n",
      " time_distributed_23 (TimeDi  (None, 15, 15, 15, 128)  512       \n",
      " stributed)                                                      \n",
      "                                                                 \n",
      " time_distributed_24 (TimeDi  (None, 15, 7, 7, 128)    0         \n",
      " stributed)                                                      \n",
      "                                                                 \n",
      " time_distributed_25 (TimeDi  (None, 15, 6272)         0         \n",
      " stributed)                                                      \n",
      "                                                                 \n",
      " gru (GRU)                   (None, 128)               2458368   \n",
      "                                                                 \n",
      " dropout_6 (Dropout)         (None, 128)               0         \n",
      "                                                                 \n",
      " dense_8 (Dense)             (None, 128)               16512     \n",
      "                                                                 \n",
      " dropout_7 (Dropout)         (None, 128)               0         \n",
      "                                                                 \n",
      " dense_9 (Dense)             (None, 5)                 645       \n",
      "                                                                 \n",
      "=================================================================\n",
      "Total params: 2,573,925\n",
      "Trainable params: 2,573,445\n",
      "Non-trainable params: 480\n",
      "_________________________________________________________________\n",
      "None\n"
     ]
    },
    {
     "name": "stderr",
     "output_type": "stream",
     "text": [
      "/tmp/ipykernel_206/81854442.py:34: UserWarning: `Model.fit_generator` is deprecated and will be removed in a future version. Please use `Model.fit`, which supports generators.\n",
      "  history=model.fit_generator(train_generator, steps_per_epoch=steps_per_epoch, epochs=num_epochs, verbose=1,\n"
     ]
    },
    {
     "name": "stdout",
     "output_type": "stream",
     "text": [
      "Epoch 1/20\n",
      "34/34 [==============================] - ETA: 0s - loss: 1.4059 - categorical_accuracy: 0.4133\n",
      "Epoch 00001: val_loss improved from inf to 1.71653, saving model to model_init_2024-07-0222_44_05.830698/model-00001-1.40591-0.41327-1.71653-0.18000.h5\n",
      "34/34 [==============================] - 149s 4s/step - loss: 1.4059 - categorical_accuracy: 0.4133 - val_loss: 1.7165 - val_categorical_accuracy: 0.1800 - lr: 2.0000e-04\n",
      "Epoch 2/20\n",
      "34/34 [==============================] - ETA: 0s - loss: 0.9702 - categorical_accuracy: 0.6237\n",
      "Epoch 00002: val_loss did not improve from 1.71653\n",
      "34/34 [==============================] - 145s 4s/step - loss: 0.9702 - categorical_accuracy: 0.6237 - val_loss: 1.9173 - val_categorical_accuracy: 0.2500 - lr: 2.0000e-04\n",
      "Epoch 3/20\n",
      "34/34 [==============================] - ETA: 0s - loss: 0.7431 - categorical_accuracy: 0.7315\n",
      "Epoch 00003: val_loss did not improve from 1.71653\n",
      "34/34 [==============================] - 147s 4s/step - loss: 0.7431 - categorical_accuracy: 0.7315 - val_loss: 2.2581 - val_categorical_accuracy: 0.2800 - lr: 2.0000e-04\n",
      "Epoch 4/20\n",
      "34/34 [==============================] - ETA: 0s - loss: 0.5941 - categorical_accuracy: 0.7941\n",
      "Epoch 00004: val_loss did not improve from 1.71653\n",
      "34/34 [==============================] - 152s 5s/step - loss: 0.5941 - categorical_accuracy: 0.7941 - val_loss: 1.9973 - val_categorical_accuracy: 0.3200 - lr: 2.0000e-04\n",
      "Epoch 5/20\n",
      "34/34 [==============================] - ETA: 0s - loss: 0.5051 - categorical_accuracy: 0.8122\n",
      "Epoch 00005: val_loss did not improve from 1.71653\n",
      "\n",
      "Epoch 00005: ReduceLROnPlateau reducing learning rate to 3.9999998989515007e-05.\n",
      "34/34 [==============================] - 150s 5s/step - loss: 0.5051 - categorical_accuracy: 0.8122 - val_loss: 2.0722 - val_categorical_accuracy: 0.3300 - lr: 2.0000e-04\n",
      "Epoch 6/20\n",
      "34/34 [==============================] - ETA: 0s - loss: 0.3957 - categorical_accuracy: 0.8650\n",
      "Epoch 00006: val_loss did not improve from 1.71653\n",
      "34/34 [==============================] - 146s 4s/step - loss: 0.3957 - categorical_accuracy: 0.8650 - val_loss: 2.2835 - val_categorical_accuracy: 0.3100 - lr: 4.0000e-05\n",
      "Epoch 7/20\n",
      "34/34 [==============================] - ETA: 0s - loss: 0.3158 - categorical_accuracy: 0.8959\n",
      "Epoch 00007: val_loss did not improve from 1.71653\n",
      "34/34 [==============================] - 150s 5s/step - loss: 0.3158 - categorical_accuracy: 0.8959 - val_loss: 2.3991 - val_categorical_accuracy: 0.3300 - lr: 4.0000e-05\n",
      "Epoch 8/20\n",
      "34/34 [==============================] - ETA: 0s - loss: 0.2972 - categorical_accuracy: 0.9080\n",
      "Epoch 00008: val_loss did not improve from 1.71653\n",
      "34/34 [==============================] - 146s 4s/step - loss: 0.2972 - categorical_accuracy: 0.9080 - val_loss: 2.2556 - val_categorical_accuracy: 0.2900 - lr: 4.0000e-05\n",
      "Epoch 9/20\n",
      "34/34 [==============================] - ETA: 0s - loss: 0.2964 - categorical_accuracy: 0.9072\n",
      "Epoch 00009: val_loss did not improve from 1.71653\n",
      "\n",
      "Epoch 00009: ReduceLROnPlateau reducing learning rate to 7.999999797903002e-06.\n",
      "34/34 [==============================] - 146s 4s/step - loss: 0.2964 - categorical_accuracy: 0.9072 - val_loss: 2.3383 - val_categorical_accuracy: 0.3300 - lr: 4.0000e-05\n",
      "Epoch 10/20\n",
      "34/34 [==============================] - ETA: 0s - loss: 0.2391 - categorical_accuracy: 0.9351\n",
      "Epoch 00010: val_loss did not improve from 1.71653\n",
      "34/34 [==============================] - 145s 4s/step - loss: 0.2391 - categorical_accuracy: 0.9351 - val_loss: 2.0991 - val_categorical_accuracy: 0.4200 - lr: 8.0000e-06\n",
      "Epoch 11/20\n",
      "34/34 [==============================] - ETA: 0s - loss: 0.2446 - categorical_accuracy: 0.9374\n",
      "Epoch 00011: val_loss did not improve from 1.71653\n",
      "34/34 [==============================] - 146s 4s/step - loss: 0.2446 - categorical_accuracy: 0.9374 - val_loss: 1.9494 - val_categorical_accuracy: 0.4000 - lr: 8.0000e-06\n",
      "Epoch 00011: early stopping\n"
     ]
    },
    {
     "data": {
      "image/png": "[encoded data removed]",
      "text/plain": [
       "<Figure size 1080x288 with 2 Axes>"
      ]
     },
     "metadata": {
      "needs_background": "light"
     },
     "output_type": "display_data"
    }
   ],
   "source": [
    "image_height = 120\n",
    "image_width = 120\n",
    "channels=3\n",
    "num_classes=5\n",
    "total_frames=30\n",
    "frames_to_sample=15\n",
    "batch_size=20\n",
    "num_epochs=20\n",
    "\n",
    "cnn2d_gru_model1 = cnn2d_gru_model(gru_cells=128,dense_neurons=128,dropout=0.25)\n",
    "optimiser = Adam(lr=0.0002)\n",
    "cnn2d_gru_model1.compile(optimizer=optimiser, loss='categorical_crossentropy', metrics=['categorical_accuracy'])\n",
    "print (cnn2d_gru_model1.summary())\n",
    "cnn2d_gru_model1_history = train_model(cnn2d_gru_model1, batch_size, total_frames, frames_to_sample,image_height,image_width, num_epochs, augment_data=True)\n",
    "plot(cnn2d_gru_model1_history)"
   ]
  },
  {
   "cell_type": "markdown",
   "metadata": {},
   "source": [
    "Lets try to apply transfer learning. Since mobilenet is not a heavy architecture like vggnet, alexnet it is suitable to use in this case."
   ]
  },
  {
   "cell_type": "markdown",
   "metadata": {},
   "source": [
    "### MobileNet + LSTM - Experiment 9"
   ]
  },
  {
   "cell_type": "code",
   "execution_count": 10,
   "metadata": {},
   "outputs": [
    {
     "name": "stdout",
     "output_type": "stream",
     "text": [
      "WARNING:tensorflow:`input_shape` is undefined or non-square, or `rows` is not in [128, 160, 192, 224]. Weights for input shape (224, 224) will be loaded as the default.\n"
     ]
    },
    {
     "name": "stderr",
     "output_type": "stream",
     "text": [
      "2024-07-03 01:02:23.396115: W tensorflow/core/common_runtime/gpu/gpu_bfc_allocator.cc:39] Overriding allow_growth setting because the TF_FORCE_GPU_ALLOW_GROWTH environment variable is set. Original config value was 0.\n",
      "2024-07-03 01:02:23.396175: I tensorflow/core/common_runtime/gpu/gpu_device.cc:1525] Created device /job:localhost/replica:0/task:0/device:GPU:0 with 14800 MB memory:  -> device: 0, name: Quadro RTX 5000, pci bus id: 0000:1c:00.0, compute capability: 7.5\n"
     ]
    }
   ],
   "source": [
    "from keras.applications import mobilenet\n",
    "mobilenet_transfer = mobilenet.MobileNet(weights='imagenet', include_top=False)\n",
    "mobilenet_transfer.trainable = False"
   ]
  },
  {
   "cell_type": "code",
   "execution_count": 19,
   "metadata": {},
   "outputs": [],
   "source": [
    "def transfer_learning_model_1(lstm_cells=64, dense_neurons=64, dropout=0.25):\n",
    "\n",
    "    model = Sequential()\n",
    "    model.add(TimeDistributed(mobilenet_transfer, input_shape=(frames_to_sample, image_height, image_width, 3)))\n",
    "\n",
    "    model.add(TimeDistributed(BatchNormalization()))\n",
    "    model.add(TimeDistributed(MaxPooling2D((2, 2))))\n",
    "    model.add(TimeDistributed(Flatten()))\n",
    "\n",
    "    model.add(LSTM(lstm_cells))\n",
    "    model.add(Dropout(dropout))\n",
    "\n",
    "    model.add(Dense(dense_neurons, activation='relu'))\n",
    "    model.add(Dropout(dropout))\n",
    "\n",
    "    model.add(Dense(5, activation='softmax'))\n",
    "\n",
    "    return model  # Add a return statement to return the created model\n"
   ]
  },
  {
   "cell_type": "code",
   "execution_count": 20,
   "metadata": {
    "scrolled": false
   },
   "outputs": [
    {
     "name": "stdout",
     "output_type": "stream",
     "text": [
      "Model: \"sequential_4\"\n",
      "_________________________________________________________________\n",
      " Layer (type)                Output Shape              Param #   \n",
      "=================================================================\n",
      " time_distributed_26 (TimeDi  (None, 15, 3, 3, 1024)   3228864   \n",
      " stributed)                                                      \n",
      "                                                                 \n",
      " time_distributed_27 (TimeDi  (None, 15, 3, 3, 1024)   4096      \n",
      " stributed)                                                      \n",
      "                                                                 \n",
      " time_distributed_28 (TimeDi  (None, 15, 1, 1, 1024)   0         \n",
      " stributed)                                                      \n",
      "                                                                 \n",
      " time_distributed_29 (TimeDi  (None, 15, 1024)         0         \n",
      " stributed)                                                      \n",
      "                                                                 \n",
      " lstm_1 (LSTM)               (None, 128)               590336    \n",
      "                                                                 \n",
      " dropout_8 (Dropout)         (None, 128)               0         \n",
      "                                                                 \n",
      " dense_10 (Dense)            (None, 128)               16512     \n",
      "                                                                 \n",
      " dropout_9 (Dropout)         (None, 128)               0         \n",
      "                                                                 \n",
      " dense_11 (Dense)            (None, 5)                 645       \n",
      "                                                                 \n",
      "=================================================================\n",
      "Total params: 3,840,453\n",
      "Trainable params: 609,541\n",
      "Non-trainable params: 3,230,912\n",
      "_________________________________________________________________\n",
      "None\n"
     ]
    },
    {
     "name": "stderr",
     "output_type": "stream",
     "text": [
      "/tmp/ipykernel_206/81854442.py:34: UserWarning: `Model.fit_generator` is deprecated and will be removed in a future version. Please use `Model.fit`, which supports generators.\n",
      "  history=model.fit_generator(train_generator, steps_per_epoch=steps_per_epoch, epochs=num_epochs, verbose=1,\n"
     ]
    },
    {
     "name": "stdout",
     "output_type": "stream",
     "text": [
      "Epoch 1/20\n",
      "34/34 [==============================] - ETA: 0s - loss: 1.3503 - categorical_accuracy: 0.4389\n",
      "Epoch 00001: val_loss improved from inf to 0.95488, saving model to model_init_2024-07-0300_03_00.948874/model-00001-1.35035-0.43891-0.95488-0.59000.h5\n",
      "34/34 [==============================] - 146s 4s/step - loss: 1.3503 - categorical_accuracy: 0.4389 - val_loss: 0.9549 - val_categorical_accuracy: 0.5900 - lr: 0.0010\n",
      "Epoch 2/20\n",
      "34/34 [==============================] - ETA: 0s - loss: 0.7667 - categorical_accuracy: 0.7179\n",
      "Epoch 00002: val_loss improved from 0.95488 to 0.58120, saving model to model_init_2024-07-0300_03_00.948874/model-00002-0.76673-0.71795-0.58120-0.76000.h5\n",
      "34/34 [==============================] - 143s 4s/step - loss: 0.7667 - categorical_accuracy: 0.7179 - val_loss: 0.5812 - val_categorical_accuracy: 0.7600 - lr: 0.0010\n",
      "Epoch 3/20\n",
      "34/34 [==============================] - ETA: 0s - loss: 0.4439 - categorical_accuracy: 0.8462\n",
      "Epoch 00003: val_loss did not improve from 0.58120\n",
      "34/34 [==============================] - 142s 4s/step - loss: 0.4439 - categorical_accuracy: 0.8462 - val_loss: 0.6958 - val_categorical_accuracy: 0.7800 - lr: 0.0010\n",
      "Epoch 4/20\n",
      "34/34 [==============================] - ETA: 0s - loss: 0.2892 - categorical_accuracy: 0.9035\n",
      "Epoch 00004: val_loss improved from 0.58120 to 0.51685, saving model to model_init_2024-07-0300_03_00.948874/model-00004-0.28918-0.90347-0.51685-0.75000.h5\n",
      "34/34 [==============================] - 143s 4s/step - loss: 0.2892 - categorical_accuracy: 0.9035 - val_loss: 0.5169 - val_categorical_accuracy: 0.7500 - lr: 0.0010\n",
      "Epoch 5/20\n",
      "34/34 [==============================] - ETA: 0s - loss: 0.1779 - categorical_accuracy: 0.9570\n",
      "Epoch 00005: val_loss did not improve from 0.51685\n",
      "34/34 [==============================] - 142s 4s/step - loss: 0.1779 - categorical_accuracy: 0.9570 - val_loss: 0.6211 - val_categorical_accuracy: 0.7200 - lr: 0.0010\n",
      "Epoch 6/20\n",
      "34/34 [==============================] - ETA: 0s - loss: 0.2270 - categorical_accuracy: 0.9216\n",
      "Epoch 00006: val_loss did not improve from 0.51685\n",
      "34/34 [==============================] - 144s 4s/step - loss: 0.2270 - categorical_accuracy: 0.9216 - val_loss: 0.6582 - val_categorical_accuracy: 0.7100 - lr: 0.0010\n",
      "Epoch 7/20\n",
      "34/34 [==============================] - ETA: 0s - loss: 0.1409 - categorical_accuracy: 0.9540\n",
      "Epoch 00007: val_loss did not improve from 0.51685\n",
      "34/34 [==============================] - 146s 4s/step - loss: 0.1409 - categorical_accuracy: 0.9540 - val_loss: 0.6454 - val_categorical_accuracy: 0.7700 - lr: 0.0010\n",
      "Epoch 8/20\n",
      "34/34 [==============================] - ETA: 0s - loss: 0.1242 - categorical_accuracy: 0.9578\n",
      "Epoch 00008: val_loss did not improve from 0.51685\n",
      "\n",
      "Epoch 00008: ReduceLROnPlateau reducing learning rate to 0.00020000000949949026.\n",
      "34/34 [==============================] - 142s 4s/step - loss: 0.1242 - categorical_accuracy: 0.9578 - val_loss: 0.6817 - val_categorical_accuracy: 0.7500 - lr: 0.0010\n",
      "Epoch 9/20\n",
      "34/34 [==============================] - ETA: 0s - loss: 0.0669 - categorical_accuracy: 0.9849\n",
      "Epoch 00009: val_loss did not improve from 0.51685\n",
      "34/34 [==============================] - 143s 4s/step - loss: 0.0669 - categorical_accuracy: 0.9849 - val_loss: 0.5858 - val_categorical_accuracy: 0.7700 - lr: 2.0000e-04\n",
      "Epoch 10/20\n",
      "34/34 [==============================] - ETA: 0s - loss: 0.0394 - categorical_accuracy: 0.9955\n",
      "Epoch 00010: val_loss did not improve from 0.51685\n",
      "34/34 [==============================] - 152s 5s/step - loss: 0.0394 - categorical_accuracy: 0.9955 - val_loss: 0.6765 - val_categorical_accuracy: 0.7700 - lr: 2.0000e-04\n",
      "Epoch 11/20\n",
      "34/34 [==============================] - ETA: 0s - loss: 0.0336 - categorical_accuracy: 0.9940\n",
      "Epoch 00011: val_loss did not improve from 0.51685\n",
      "34/34 [==============================] - 149s 5s/step - loss: 0.0336 - categorical_accuracy: 0.9940 - val_loss: 0.6990 - val_categorical_accuracy: 0.7400 - lr: 2.0000e-04\n",
      "Epoch 12/20\n",
      "34/34 [==============================] - ETA: 0s - loss: 0.0341 - categorical_accuracy: 0.9910\n",
      "Epoch 00012: val_loss did not improve from 0.51685\n",
      "\n",
      "Epoch 00012: ReduceLROnPlateau reducing learning rate to 4.0000001899898055e-05.\n",
      "34/34 [==============================] - 147s 4s/step - loss: 0.0341 - categorical_accuracy: 0.9910 - val_loss: 0.8132 - val_categorical_accuracy: 0.7300 - lr: 2.0000e-04\n",
      "Epoch 13/20\n",
      "34/34 [==============================] - ETA: 0s - loss: 0.0249 - categorical_accuracy: 0.9962\n",
      "Epoch 00013: val_loss did not improve from 0.51685\n",
      "34/34 [==============================] - 146s 4s/step - loss: 0.0249 - categorical_accuracy: 0.9962 - val_loss: 0.7729 - val_categorical_accuracy: 0.7000 - lr: 4.0000e-05\n",
      "Epoch 14/20\n",
      "34/34 [==============================] - ETA: 0s - loss: 0.0224 - categorical_accuracy: 0.9985\n",
      "Epoch 00014: val_loss did not improve from 0.51685\n",
      "34/34 [==============================] - 147s 4s/step - loss: 0.0224 - categorical_accuracy: 0.9985 - val_loss: 0.6541 - val_categorical_accuracy: 0.7600 - lr: 4.0000e-05\n",
      "Epoch 00014: early stopping\n"
     ]
    },
    {
     "data": {
      "image/png": "[encoded data removed]",
      "text/plain": [
       "<Figure size 1080x288 with 2 Axes>"
      ]
     },
     "metadata": {
      "needs_background": "light"
     },
     "output_type": "display_data"
    }
   ],
   "source": [
    "image_height = 120\n",
    "image_width = 120\n",
    "channels=3\n",
    "num_classes=5\n",
    "total_frames=30\n",
    "frames_to_sample=15\n",
    "batch_size=20\n",
    "num_epochs=20\n",
    "\n",
    "tf_1 = transfer_learning_model_1(lstm_cells=128,dense_neurons=128,dropout=0.25)\n",
    "optimiser = Adam()\n",
    "tf_1.compile(optimizer=optimiser, loss='categorical_crossentropy', metrics=['categorical_accuracy'])\n",
    "print (tf_1.summary())\n",
    "tf_1_history = train_model(tf_1, batch_size, total_frames, frames_to_sample,image_height,image_width, num_epochs, augment_data=True)\n",
    "plot(tf_1_history)"
   ]
  },
  {
   "cell_type": "markdown",
   "metadata": {},
   "source": [
    "As you can see that the validation accuracy is incresed but not enough. "
   ]
  },
  {
   "cell_type": "markdown",
   "metadata": {},
   "source": [
    "### MobileNet + GRU - Experiment 10"
   ]
  },
  {
   "cell_type": "code",
   "execution_count": 11,
   "metadata": {},
   "outputs": [],
   "source": [
    "mobilenet_transfer.trainable = True"
   ]
  },
  {
   "cell_type": "code",
   "execution_count": 12,
   "metadata": {},
   "outputs": [],
   "source": [
    "def transfer_learning_model_2(lstm_cells=64, dense_neurons=64, dropout=0.25):\n",
    "\n",
    "    model = Sequential()\n",
    "    model.add(TimeDistributed(mobilenet_transfer, input_shape=(frames_to_sample, image_height, image_width, 3)))\n",
    "\n",
    "    model.add(TimeDistributed(BatchNormalization()))\n",
    "    model.add(TimeDistributed(MaxPooling2D((2, 2))))\n",
    "    model.add(TimeDistributed(Flatten()))\n",
    "\n",
    "    model.add(GRU(lstm_cells))  # GRU layer instead of LSTM\n",
    "    model.add(Dropout(dropout))\n",
    "\n",
    "    model.add(Dense(dense_neurons, activation='relu'))\n",
    "    model.add(Dropout(dropout))\n",
    "\n",
    "    model.add(Dense(5, activation='softmax'))\n",
    "\n",
    "    return model  # Add a return statement to return the created model\n"
   ]
  },
  {
   "cell_type": "code",
   "execution_count": 13,
   "metadata": {
    "scrolled": false
   },
   "outputs": [
    {
     "name": "stdout",
     "output_type": "stream",
     "text": [
      "Model: \"sequential\"\n",
      "_________________________________________________________________\n",
      " Layer (type)                Output Shape              Param #   \n",
      "=================================================================\n",
      " time_distributed (TimeDistr  (None, 15, 3, 3, 1024)   3228864   \n",
      " ibuted)                                                         \n",
      "                                                                 \n",
      " time_distributed_1 (TimeDis  (None, 15, 3, 3, 1024)   4096      \n",
      " tributed)                                                       \n",
      "                                                                 \n",
      " time_distributed_2 (TimeDis  (None, 15, 1, 1, 1024)   0         \n",
      " tributed)                                                       \n",
      "                                                                 \n",
      " time_distributed_3 (TimeDis  (None, 15, 1024)         0         \n",
      " tributed)                                                       \n",
      "                                                                 \n",
      " gru (GRU)                   (None, 128)               443136    \n",
      "                                                                 \n",
      " dropout (Dropout)           (None, 128)               0         \n",
      "                                                                 \n",
      " dense (Dense)               (None, 128)               16512     \n",
      "                                                                 \n",
      " dropout_1 (Dropout)         (None, 128)               0         \n",
      "                                                                 \n",
      " dense_1 (Dense)             (None, 5)                 645       \n",
      "                                                                 \n",
      "=================================================================\n",
      "Total params: 3,693,253\n",
      "Trainable params: 3,669,317\n",
      "Non-trainable params: 23,936\n",
      "_________________________________________________________________\n",
      "None\n"
     ]
    },
    {
     "name": "stderr",
     "output_type": "stream",
     "text": [
      "/tmp/ipykernel_206/81854442.py:34: UserWarning: `Model.fit_generator` is deprecated and will be removed in a future version. Please use `Model.fit`, which supports generators.\n",
      "  history=model.fit_generator(train_generator, steps_per_epoch=steps_per_epoch, epochs=num_epochs, verbose=1,\n"
     ]
    },
    {
     "name": "stdout",
     "output_type": "stream",
     "text": [
      "Epoch 1/20\n"
     ]
    },
    {
     "name": "stderr",
     "output_type": "stream",
     "text": [
      "2024-07-03 01:02:49.235657: I tensorflow/stream_executor/cuda/cuda_dnn.cc:377] Loaded cuDNN version 8302\n"
     ]
    },
    {
     "name": "stdout",
     "output_type": "stream",
     "text": [
      "67/67 [==============================] - ETA: 0s - loss: 1.1052 - categorical_accuracy: 0.5611\n",
      "Epoch 00001: val_loss improved from inf to 0.68548, saving model to model_init_2024-07-0301_02_43.052680/model-00001-1.10519-0.56109-0.68548-0.67000.h5\n",
      "67/67 [==============================] - 167s 2s/step - loss: 1.1052 - categorical_accuracy: 0.5611 - val_loss: 0.6855 - val_categorical_accuracy: 0.6700 - lr: 0.0010\n",
      "Epoch 2/20\n",
      "67/67 [==============================] - ETA: 0s - loss: 0.4410 - categorical_accuracy: 0.8288\n",
      "Epoch 00002: val_loss improved from 0.68548 to 0.40592, saving model to model_init_2024-07-0301_02_43.052680/model-00002-0.44098-0.82881-0.40592-0.84000.h5\n",
      "67/67 [==============================] - 149s 2s/step - loss: 0.4410 - categorical_accuracy: 0.8288 - val_loss: 0.4059 - val_categorical_accuracy: 0.8400 - lr: 0.0010\n",
      "Epoch 3/20\n",
      "67/67 [==============================] - ETA: 0s - loss: 0.3324 - categorical_accuracy: 0.8884\n",
      "Epoch 00003: val_loss did not improve from 0.40592\n",
      "67/67 [==============================] - 150s 2s/step - loss: 0.3324 - categorical_accuracy: 0.8884 - val_loss: 1.0824 - val_categorical_accuracy: 0.6700 - lr: 0.0010\n",
      "Epoch 4/20\n",
      "67/67 [==============================] - ETA: 0s - loss: 0.3070 - categorical_accuracy: 0.8982\n",
      "Epoch 00004: val_loss did not improve from 0.40592\n",
      "67/67 [==============================] - 145s 2s/step - loss: 0.3070 - categorical_accuracy: 0.8982 - val_loss: 0.4222 - val_categorical_accuracy: 0.8300 - lr: 0.0010\n",
      "Epoch 5/20\n",
      "67/67 [==============================] - ETA: 0s - loss: 0.2340 - categorical_accuracy: 0.9284\n",
      "Epoch 00005: val_loss improved from 0.40592 to 0.19947, saving model to model_init_2024-07-0301_02_43.052680/model-00005-0.23399-0.92836-0.19947-0.92000.h5\n",
      "67/67 [==============================] - 147s 2s/step - loss: 0.2340 - categorical_accuracy: 0.9284 - val_loss: 0.1995 - val_categorical_accuracy: 0.9200 - lr: 0.0010\n",
      "Epoch 6/20\n",
      "67/67 [==============================] - ETA: 0s - loss: 0.1970 - categorical_accuracy: 0.9336\n",
      "Epoch 00006: val_loss did not improve from 0.19947\n",
      "67/67 [==============================] - 145s 2s/step - loss: 0.1970 - categorical_accuracy: 0.9336 - val_loss: 0.2781 - val_categorical_accuracy: 0.9000 - lr: 0.0010\n",
      "Epoch 7/20\n",
      "67/67 [==============================] - ETA: 0s - loss: 0.1627 - categorical_accuracy: 0.9525\n",
      "Epoch 00007: val_loss did not improve from 0.19947\n",
      "67/67 [==============================] - 146s 2s/step - loss: 0.1627 - categorical_accuracy: 0.9525 - val_loss: 0.3419 - val_categorical_accuracy: 0.8900 - lr: 0.0010\n",
      "Epoch 8/20\n",
      "67/67 [==============================] - ETA: 0s - loss: 0.1459 - categorical_accuracy: 0.9525\n",
      "Epoch 00008: val_loss did not improve from 0.19947\n",
      "67/67 [==============================] - 145s 2s/step - loss: 0.1459 - categorical_accuracy: 0.9525 - val_loss: 0.2485 - val_categorical_accuracy: 0.9200 - lr: 0.0010\n",
      "Epoch 9/20\n",
      "67/67 [==============================] - ETA: 0s - loss: 0.0857 - categorical_accuracy: 0.9683\n",
      "Epoch 00009: val_loss improved from 0.19947 to 0.19177, saving model to model_init_2024-07-0301_02_43.052680/model-00009-0.08567-0.96833-0.19177-0.95000.h5\n",
      "67/67 [==============================] - 145s 2s/step - loss: 0.0857 - categorical_accuracy: 0.9683 - val_loss: 0.1918 - val_categorical_accuracy: 0.9500 - lr: 0.0010\n",
      "Epoch 10/20\n",
      "67/67 [==============================] - ETA: 0s - loss: 0.0682 - categorical_accuracy: 0.9736\n",
      "Epoch 00010: val_loss did not improve from 0.19177\n",
      "67/67 [==============================] - 144s 2s/step - loss: 0.0682 - categorical_accuracy: 0.9736 - val_loss: 0.7764 - val_categorical_accuracy: 0.8300 - lr: 0.0010\n",
      "Epoch 11/20\n",
      "67/67 [==============================] - ETA: 0s - loss: 0.1564 - categorical_accuracy: 0.9570\n",
      "Epoch 00011: val_loss did not improve from 0.19177\n",
      "67/67 [==============================] - 144s 2s/step - loss: 0.1564 - categorical_accuracy: 0.9570 - val_loss: 0.5255 - val_categorical_accuracy: 0.7900 - lr: 0.0010\n",
      "Epoch 12/20\n",
      "67/67 [==============================] - ETA: 0s - loss: 0.1417 - categorical_accuracy: 0.9555\n",
      "Epoch 00012: val_loss did not improve from 0.19177\n",
      "67/67 [==============================] - 144s 2s/step - loss: 0.1417 - categorical_accuracy: 0.9555 - val_loss: 0.2419 - val_categorical_accuracy: 0.9300 - lr: 0.0010\n",
      "Epoch 13/20\n",
      "67/67 [==============================] - ETA: 0s - loss: 0.1732 - categorical_accuracy: 0.9449\n",
      "Epoch 00013: val_loss did not improve from 0.19177\n",
      "\n",
      "Epoch 00013: ReduceLROnPlateau reducing learning rate to 0.00020000000949949026.\n",
      "67/67 [==============================] - 147s 2s/step - loss: 0.1732 - categorical_accuracy: 0.9449 - val_loss: 0.3626 - val_categorical_accuracy: 0.8700 - lr: 0.0010\n",
      "Epoch 14/20\n",
      "67/67 [==============================] - ETA: 0s - loss: 0.0807 - categorical_accuracy: 0.9766\n",
      "Epoch 00014: val_loss improved from 0.19177 to 0.10025, saving model to model_init_2024-07-0301_02_43.052680/model-00014-0.08072-0.97662-0.10025-0.98000.h5\n",
      "67/67 [==============================] - 146s 2s/step - loss: 0.0807 - categorical_accuracy: 0.9766 - val_loss: 0.1002 - val_categorical_accuracy: 0.9800 - lr: 2.0000e-04\n",
      "Epoch 15/20\n",
      "67/67 [==============================] - ETA: 0s - loss: 0.0336 - categorical_accuracy: 0.9894\n",
      "Epoch 00015: val_loss did not improve from 0.10025\n",
      "67/67 [==============================] - 150s 2s/step - loss: 0.0336 - categorical_accuracy: 0.9894 - val_loss: 0.1696 - val_categorical_accuracy: 0.9500 - lr: 2.0000e-04\n",
      "Epoch 16/20\n",
      "67/67 [==============================] - ETA: 0s - loss: 0.0572 - categorical_accuracy: 0.9827\n",
      "Epoch 00016: val_loss improved from 0.10025 to 0.04863, saving model to model_init_2024-07-0301_02_43.052680/model-00016-0.05716-0.98265-0.04863-0.99000.h5\n",
      "67/67 [==============================] - 149s 2s/step - loss: 0.0572 - categorical_accuracy: 0.9827 - val_loss: 0.0486 - val_categorical_accuracy: 0.9900 - lr: 2.0000e-04\n",
      "Epoch 17/20\n",
      "67/67 [==============================] - ETA: 0s - loss: 0.0164 - categorical_accuracy: 0.9970\n",
      "Epoch 00017: val_loss improved from 0.04863 to 0.02632, saving model to model_init_2024-07-0301_02_43.052680/model-00017-0.01644-0.99698-0.02632-1.00000.h5\n",
      "67/67 [==============================] - 148s 2s/step - loss: 0.0164 - categorical_accuracy: 0.9970 - val_loss: 0.0263 - val_categorical_accuracy: 1.0000 - lr: 2.0000e-04\n",
      "Epoch 18/20\n",
      "67/67 [==============================] - ETA: 0s - loss: 0.0147 - categorical_accuracy: 0.9962\n",
      "Epoch 00018: val_loss did not improve from 0.02632\n",
      "67/67 [==============================] - 148s 2s/step - loss: 0.0147 - categorical_accuracy: 0.9962 - val_loss: 0.1429 - val_categorical_accuracy: 0.9600 - lr: 2.0000e-04\n",
      "Epoch 19/20\n",
      "67/67 [==============================] - ETA: 0s - loss: 0.0112 - categorical_accuracy: 0.9970\n",
      "Epoch 00019: val_loss did not improve from 0.02632\n",
      "67/67 [==============================] - 145s 2s/step - loss: 0.0112 - categorical_accuracy: 0.9970 - val_loss: 0.1009 - val_categorical_accuracy: 0.9600 - lr: 2.0000e-04\n",
      "Epoch 20/20\n",
      "67/67 [==============================] - ETA: 0s - loss: 0.0199 - categorical_accuracy: 0.9910\n",
      "Epoch 00020: val_loss did not improve from 0.02632\n",
      "67/67 [==============================] - 145s 2s/step - loss: 0.0199 - categorical_accuracy: 0.9910 - val_loss: 0.0877 - val_categorical_accuracy: 0.9600 - lr: 2.0000e-04\n"
     ]
    },
    {
     "data": {
      "image/png": "[encoded data removed]",
      "text/plain": [
       "<Figure size 1080x288 with 2 Axes>"
      ]
     },
     "metadata": {
      "needs_background": "light"
     },
     "output_type": "display_data"
    }
   ],
   "source": [
    "image_height = 120\n",
    "image_width = 120\n",
    "channels=3\n",
    "num_classes=5\n",
    "total_frames=30\n",
    "frames_to_sample=15\n",
    "batch_size=10\n",
    "num_epochs=20\n",
    "\n",
    "tf_2 = transfer_learning_model_2(lstm_cells=128,dense_neurons=128,dropout=0.25)\n",
    "optimiser = Adam()\n",
    "tf_2.compile(optimizer=optimiser, loss='categorical_crossentropy', metrics=['categorical_accuracy'])\n",
    "print (tf_2.summary())\n",
    "tf_2_history = train_model(tf_2, batch_size, total_frames, frames_to_sample,image_height,image_width, num_epochs, augment_data=True)\n",
    "plot(tf_2_history)"
   ]
  },
  {
   "cell_type": "markdown",
   "metadata": {},
   "source": [
    "This model has 100% validation accuracy and validation loss is almost 0 and classified all the images correctly. So we can say it is not overfitting."
   ]
  },
  {
   "cell_type": "markdown",
   "metadata": {},
   "source": [
    "## Final Model\n",
    "\n",
    "#### After doing all the experiments, we finalize the model created in Experiment 10 (MobileNet + GRU) which performed well.\n",
    "-  loss: 0.0164\n",
    "-  val_loss: 0.0263\n",
    "-  categorical_accuracy: 0.99\n",
    "-  val_categorical_accuracy: 1.00"
   ]
  },
  {
   "cell_type": "code",
   "execution_count": null,
   "metadata": {},
   "outputs": [],
   "source": []
  }
 ],
 "metadata": {
  "kernelspec": {
   "display_name": "Python 3 (ipykernel)",
   "language": "python",
   "name": "python3"
  },
  "language_info": {
   "codemirror_mode": {
    "name": "ipython",
    "version": 3
   },
   "file_extension": ".py",
   "mimetype": "text/x-python",
   "name": "python",
   "nbconvert_exporter": "python",
   "pygments_lexer": "ipython3",
   "version": "3.11.5"
  }
 },
 "nbformat": 4,
 "nbformat_minor": 4
}
